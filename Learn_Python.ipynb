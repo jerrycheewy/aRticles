{
  "nbformat": 4,
  "nbformat_minor": 0,
  "metadata": {
    "colab": {
      "name": "Learn Python.ipynb",
      "provenance": [],
      "collapsed_sections": [],
      "authorship_tag": "ABX9TyMdFtnpeOHHHtSeeOWzyl1+",
      "include_colab_link": true
    },
    "kernelspec": {
      "name": "python3",
      "display_name": "Python 3"
    }
  },
  "cells": [
    {
      "cell_type": "markdown",
      "metadata": {
        "id": "view-in-github",
        "colab_type": "text"
      },
      "source": [
        "<a href=\"https://colab.research.google.com/github/jerrycheewy/aRticles/blob/master/Learn_Python.ipynb\" target=\"_parent\"><img src=\"https://colab.research.google.com/assets/colab-badge.svg\" alt=\"Open In Colab\"/></a>"
      ]
    },
    {
      "cell_type": "markdown",
      "metadata": {
        "id": "W9_kdmxPsgUQ",
        "colab_type": "text"
      },
      "source": [
        "# Popular libraries"
      ]
    },
    {
      "cell_type": "markdown",
      "metadata": {
        "id": "WwrprGqI4qTo",
        "colab_type": "text"
      },
      "source": [
        "## NumPy"
      ]
    },
    {
      "cell_type": "code",
      "metadata": {
        "id": "muvysXgQ4zJQ",
        "colab_type": "code",
        "colab": {}
      },
      "source": [
        "import numpy as np"
      ],
      "execution_count": 0,
      "outputs": []
    },
    {
      "cell_type": "code",
      "metadata": {
        "id": "6o2e1Oxv41lW",
        "colab_type": "code",
        "outputId": "4f37f780-ddef-40bd-eec3-2c955b7495bb",
        "colab": {
          "base_uri": "https://localhost:8080/",
          "height": 34
        }
      },
      "source": [
        "# integer array\n",
        "np.array([1,2,3.5])"
      ],
      "execution_count": 0,
      "outputs": [
        {
          "output_type": "execute_result",
          "data": {
            "text/plain": [
              "array([1. , 2. , 3.5])"
            ]
          },
          "metadata": {
            "tags": []
          },
          "execution_count": 2
        }
      ]
    },
    {
      "cell_type": "markdown",
      "metadata": {
        "id": "GIVNayy26iHE",
        "colab_type": "text"
      },
      "source": [
        "### Helper functions to create dummy arrays"
      ]
    },
    {
      "cell_type": "code",
      "metadata": {
        "id": "hHX2EM1j6ZgN",
        "colab_type": "code",
        "outputId": "b1a03548-7949-4f32-e6ff-33caa3a28186",
        "colab": {
          "base_uri": "https://localhost:8080/",
          "height": 246
        }
      },
      "source": [
        "# 1-d array of zeros\n",
        "np.zeros(5)"
      ],
      "execution_count": 0,
      "outputs": [
        {
          "output_type": "error",
          "ename": "NameError",
          "evalue": "ignored",
          "traceback": [
            "\u001b[0;31m---------------------------------------------------------------------------\u001b[0m",
            "\u001b[0;31mNameError\u001b[0m                                 Traceback (most recent call last)",
            "\u001b[0;32m<ipython-input-1-36ec5cd547fe>\u001b[0m in \u001b[0;36m<module>\u001b[0;34m()\u001b[0m\n\u001b[0;32m----> 1\u001b[0;31m \u001b[0mnp\u001b[0m\u001b[0;34m.\u001b[0m\u001b[0mzeros\u001b[0m\u001b[0;34m(\u001b[0m\u001b[0;36m5\u001b[0m\u001b[0;34m)\u001b[0m\u001b[0;34m\u001b[0m\u001b[0;34m\u001b[0m\u001b[0m\n\u001b[0m",
            "\u001b[0;31mNameError\u001b[0m: name 'np' is not defined"
          ]
        }
      ]
    },
    {
      "cell_type": "code",
      "metadata": {
        "id": "sar8fpdI6x7D",
        "colab_type": "code",
        "outputId": "9a340146-a24e-42cb-a1d3-f26e908a35d4",
        "colab": {
          "base_uri": "https://localhost:8080/",
          "height": 68
        }
      },
      "source": [
        "# N x M matrix of ones\n",
        "np.ones(shape = (3,3))"
      ],
      "execution_count": 0,
      "outputs": [
        {
          "output_type": "execute_result",
          "data": {
            "text/plain": [
              "array([[1., 1., 1.],\n",
              "       [1., 1., 1.],\n",
              "       [1., 1., 1.]])"
            ]
          },
          "metadata": {
            "tags": []
          },
          "execution_count": 4
        }
      ]
    },
    {
      "cell_type": "code",
      "metadata": {
        "id": "ERV1bhM86zaj",
        "colab_type": "code",
        "outputId": "76132c11-3c94-4070-db32-ae7431191e82",
        "colab": {
          "base_uri": "https://localhost:8080/",
          "height": 68
        }
      },
      "source": [
        "# N x M matrix of a particular value\n",
        "np.full(shape = (3,3), fill_value = 9)"
      ],
      "execution_count": 0,
      "outputs": [
        {
          "output_type": "execute_result",
          "data": {
            "text/plain": [
              "array([[9, 9, 9],\n",
              "       [9, 9, 9],\n",
              "       [9, 9, 9]])"
            ]
          },
          "metadata": {
            "tags": []
          },
          "execution_count": 5
        }
      ]
    },
    {
      "cell_type": "code",
      "metadata": {
        "id": "b3s4A0Yw7Acl",
        "colab_type": "code",
        "outputId": "135bde71-bc01-4c79-a7d8-06c247434f9f",
        "colab": {
          "base_uri": "https://localhost:8080/",
          "height": 34
        }
      },
      "source": [
        "# Sequence of numbers\n",
        "np.arange(start = 0, stop = 10, step = 1) #Stop inclusive!"
      ],
      "execution_count": 0,
      "outputs": [
        {
          "output_type": "execute_result",
          "data": {
            "text/plain": [
              "array([0, 1, 2, 3, 4, 5, 6, 7, 8, 9])"
            ]
          },
          "metadata": {
            "tags": []
          },
          "execution_count": 6
        }
      ]
    },
    {
      "cell_type": "code",
      "metadata": {
        "id": "Qy59cfG17TS1",
        "colab_type": "code",
        "outputId": "5c6300dd-d038-4b36-997b-3b1b630e4267",
        "colab": {
          "base_uri": "https://localhost:8080/",
          "height": 34
        }
      },
      "source": [
        "# Linearly spaced numbers\n",
        "np.linspace(start = 0, stop = 1, num = 5) #Stop is inclusive here!"
      ],
      "execution_count": 0,
      "outputs": [
        {
          "output_type": "execute_result",
          "data": {
            "text/plain": [
              "array([0.  , 0.25, 0.5 , 0.75, 1.  ])"
            ]
          },
          "metadata": {
            "tags": []
          },
          "execution_count": 7
        }
      ]
    },
    {
      "cell_type": "code",
      "metadata": {
        "id": "9E12F9dR7gNl",
        "colab_type": "code",
        "outputId": "3ccc7fc2-84be-473b-e74f-f344edcd098d",
        "colab": {
          "base_uri": "https://localhost:8080/",
          "height": 51
        }
      },
      "source": [
        "# N x M matrix of uniformly random numbers\n",
        "np.random.random(size = (2,3))"
      ],
      "execution_count": 0,
      "outputs": [
        {
          "output_type": "execute_result",
          "data": {
            "text/plain": [
              "array([[0.71122616, 0.88684375, 0.43638226],\n",
              "       [0.99853045, 0.65938549, 0.35517915]])"
            ]
          },
          "metadata": {
            "tags": []
          },
          "execution_count": 8
        }
      ]
    },
    {
      "cell_type": "code",
      "metadata": {
        "id": "Ew_c9itO71GX",
        "colab_type": "code",
        "outputId": "46921bb8-dc81-4108-d1bd-767c85484d43",
        "colab": {
          "base_uri": "https://localhost:8080/",
          "height": 51
        }
      },
      "source": [
        "# N x M matrix of normally distributed random values\n",
        "np.random.normal(size = (2,3), loc = 0, scale = 1) #mean 0, SD 1"
      ],
      "execution_count": 0,
      "outputs": [
        {
          "output_type": "execute_result",
          "data": {
            "text/plain": [
              "array([[ 0.04360631,  1.88184806,  1.04853842],\n",
              "       [ 0.48709372,  1.81523993, -0.48672449]])"
            ]
          },
          "metadata": {
            "tags": []
          },
          "execution_count": 9
        }
      ]
    },
    {
      "cell_type": "code",
      "metadata": {
        "id": "j8TBFuz98GwR",
        "colab_type": "code",
        "outputId": "77ea33a9-e20e-4c75-d934-d3630ef59290",
        "colab": {
          "base_uri": "https://localhost:8080/",
          "height": 51
        }
      },
      "source": [
        "# N x M random integers\n",
        "np.random.randint(size = (2,3), low = 0, high = 10)"
      ],
      "execution_count": 0,
      "outputs": [
        {
          "output_type": "execute_result",
          "data": {
            "text/plain": [
              "array([[2, 3, 5],\n",
              "       [3, 9, 3]])"
            ]
          },
          "metadata": {
            "tags": []
          },
          "execution_count": 10
        }
      ]
    },
    {
      "cell_type": "code",
      "metadata": {
        "id": "c6wDr0vq8UhW",
        "colab_type": "code",
        "outputId": "d39be6bf-a12e-4529-fd20-8b2818d00bad",
        "colab": {
          "base_uri": "https://localhost:8080/",
          "height": 68
        }
      },
      "source": [
        "# Identity matrix\n",
        "np.eye(N = 3)"
      ],
      "execution_count": 0,
      "outputs": [
        {
          "output_type": "execute_result",
          "data": {
            "text/plain": [
              "array([[1., 0., 0.],\n",
              "       [0., 1., 0.],\n",
              "       [0., 0., 1.]])"
            ]
          },
          "metadata": {
            "tags": []
          },
          "execution_count": 11
        }
      ]
    },
    {
      "cell_type": "markdown",
      "metadata": {
        "id": "2gWSqZC39L4O",
        "colab_type": "text"
      },
      "source": [
        "### Array attributes"
      ]
    },
    {
      "cell_type": "code",
      "metadata": {
        "id": "SsQh1yNS9V8r",
        "colab_type": "code",
        "outputId": "bea42f11-d9ca-4c71-d515-65c833cc6005",
        "colab": {
          "base_uri": "https://localhost:8080/",
          "height": 68
        }
      },
      "source": [
        "a1 = np.random.randint(size = (3,3), low = 0, high = 10)\n",
        "print(a1.ndim)\n",
        "print(a1.shape)\n",
        "print(a1.dtype)"
      ],
      "execution_count": 0,
      "outputs": [
        {
          "output_type": "stream",
          "text": [
            "2\n",
            "(3, 3)\n",
            "int64\n"
          ],
          "name": "stdout"
        }
      ]
    },
    {
      "cell_type": "code",
      "metadata": {
        "id": "47eACsQZ9npW",
        "colab_type": "code",
        "outputId": "009cdb3a-e593-41e8-a26e-bb8a00bc4946",
        "colab": {
          "base_uri": "https://localhost:8080/",
          "height": 85
        }
      },
      "source": [
        "print(a1.itemsize)\n",
        "print(a1.size)\n",
        "print(a1.nbytes)\n",
        "a1.itemsize * a1.size == a1.nbytes"
      ],
      "execution_count": 0,
      "outputs": [
        {
          "output_type": "stream",
          "text": [
            "8\n",
            "9\n",
            "72\n"
          ],
          "name": "stdout"
        },
        {
          "output_type": "execute_result",
          "data": {
            "text/plain": [
              "True"
            ]
          },
          "metadata": {
            "tags": []
          },
          "execution_count": 13
        }
      ]
    },
    {
      "cell_type": "markdown",
      "metadata": {
        "id": "SSlrbTX0-g2R",
        "colab_type": "text"
      },
      "source": [
        "### Subsetting arrays"
      ]
    },
    {
      "cell_type": "code",
      "metadata": {
        "id": "qk0uUdvK_DI8",
        "colab_type": "code",
        "outputId": "af33074f-6cf7-4b16-dc05-b7a9ed5dcfef",
        "colab": {
          "base_uri": "https://localhost:8080/",
          "height": 68
        }
      },
      "source": [
        "a1"
      ],
      "execution_count": 0,
      "outputs": [
        {
          "output_type": "execute_result",
          "data": {
            "text/plain": [
              "array([[0, 9, 0],\n",
              "       [7, 2, 5],\n",
              "       [7, 0, 2]])"
            ]
          },
          "metadata": {
            "tags": []
          },
          "execution_count": 14
        }
      ]
    },
    {
      "cell_type": "code",
      "metadata": {
        "id": "knffdUzI_FwQ",
        "colab_type": "code",
        "outputId": "35bfa4cc-cdff-4fe4-ba8c-47dd1a1e81e7",
        "colab": {
          "base_uri": "https://localhost:8080/",
          "height": 34
        }
      },
      "source": [
        "a1[0,0] #Row 1 Col 1"
      ],
      "execution_count": 0,
      "outputs": [
        {
          "output_type": "execute_result",
          "data": {
            "text/plain": [
              "0"
            ]
          },
          "metadata": {
            "tags": []
          },
          "execution_count": 15
        }
      ]
    },
    {
      "cell_type": "code",
      "metadata": {
        "id": "mW5X3rUX_LPP",
        "colab_type": "code",
        "outputId": "263b7bce-8e6b-4b40-9481-49658646e787",
        "colab": {
          "base_uri": "https://localhost:8080/",
          "height": 34
        }
      },
      "source": [
        "a1[-1,-1] #Last row, Last col (negative indexing)"
      ],
      "execution_count": 0,
      "outputs": [
        {
          "output_type": "execute_result",
          "data": {
            "text/plain": [
              "2"
            ]
          },
          "metadata": {
            "tags": []
          },
          "execution_count": 16
        }
      ]
    },
    {
      "cell_type": "code",
      "metadata": {
        "id": "rRD2gccp_QCr",
        "colab_type": "code",
        "outputId": "25bd81f4-9d22-4ac5-e127-8c8593656c15",
        "colab": {
          "base_uri": "https://localhost:8080/",
          "height": 68
        }
      },
      "source": [
        "a1[0,0] = 999 #Overwrite a cell\n",
        "a1"
      ],
      "execution_count": 0,
      "outputs": [
        {
          "output_type": "execute_result",
          "data": {
            "text/plain": [
              "array([[999,   9,   0],\n",
              "       [  7,   2,   5],\n",
              "       [  7,   0,   2]])"
            ]
          },
          "metadata": {
            "tags": []
          },
          "execution_count": 17
        }
      ]
    },
    {
      "cell_type": "code",
      "metadata": {
        "id": "DDVxH4X2_XQM",
        "colab_type": "code",
        "outputId": "755d41d2-7ada-4332-b610-b67da42e5c83",
        "colab": {
          "base_uri": "https://localhost:8080/",
          "height": 68
        }
      },
      "source": [
        "#Overwriting an element is subject to the dtype of the array\n",
        "#In this case, a1 is an integer array, so inserting a float will faill\n",
        "a1[0,0] = 9.99\n",
        "a1"
      ],
      "execution_count": 0,
      "outputs": [
        {
          "output_type": "execute_result",
          "data": {
            "text/plain": [
              "array([[9, 9, 0],\n",
              "       [7, 2, 5],\n",
              "       [7, 0, 2]])"
            ]
          },
          "metadata": {
            "tags": []
          },
          "execution_count": 18
        }
      ]
    },
    {
      "cell_type": "code",
      "metadata": {
        "id": "w-weRnCa_loV",
        "colab_type": "code",
        "outputId": "af69a42a-7092-4dea-e578-6fbf111e4635",
        "colab": {
          "base_uri": "https://localhost:8080/",
          "height": 34
        }
      },
      "source": [
        "#Slice a chunk of the array\n",
        "a2 = np.arange(0, 10, 1)\n",
        "a2[:3] #First item to the 3rd item (Python indexing starts from 0, R uses 1!)"
      ],
      "execution_count": 0,
      "outputs": [
        {
          "output_type": "execute_result",
          "data": {
            "text/plain": [
              "array([0, 1, 2])"
            ]
          },
          "metadata": {
            "tags": []
          },
          "execution_count": 19
        }
      ]
    },
    {
      "cell_type": "code",
      "metadata": {
        "id": "cS_deyGa_5Dj",
        "colab_type": "code",
        "outputId": "679f6c85-26c1-4ad8-d9be-340e978e4805",
        "colab": {
          "base_uri": "https://localhost:8080/",
          "height": 34
        }
      },
      "source": [
        "# Every other element\n",
        "a2[::2]"
      ],
      "execution_count": 0,
      "outputs": [
        {
          "output_type": "execute_result",
          "data": {
            "text/plain": [
              "array([0, 2, 4, 6, 8])"
            ]
          },
          "metadata": {
            "tags": []
          },
          "execution_count": 20
        }
      ]
    },
    {
      "cell_type": "code",
      "metadata": {
        "id": "OoS3neaGAKWb",
        "colab_type": "code",
        "outputId": "76585ece-7b24-4308-caf7-86e9b4ef0a21",
        "colab": {
          "base_uri": "https://localhost:8080/",
          "height": 34
        }
      },
      "source": [
        "# Every other element, starting from index 2\n",
        "a2[2::5]"
      ],
      "execution_count": 0,
      "outputs": [
        {
          "output_type": "execute_result",
          "data": {
            "text/plain": [
              "array([2, 7])"
            ]
          },
          "metadata": {
            "tags": []
          },
          "execution_count": 21
        }
      ]
    },
    {
      "cell_type": "markdown",
      "metadata": {
        "id": "bzV0LM2gANmp",
        "colab_type": "text"
      },
      "source": [
        "### Array object manipulation"
      ]
    },
    {
      "cell_type": "code",
      "metadata": {
        "id": "Yr-IKRLfAdUs",
        "colab_type": "code",
        "outputId": "947f8f25-0358-4be1-854f-0b4aa1b3e5e4",
        "colab": {
          "base_uri": "https://localhost:8080/",
          "height": 34
        }
      },
      "source": [
        "# Copy array\n",
        "a3 = a2.copy() #copy is a method, not an object attribute, so use parentheses at the end!\n",
        "a3"
      ],
      "execution_count": 0,
      "outputs": [
        {
          "output_type": "execute_result",
          "data": {
            "text/plain": [
              "array([0, 1, 2, 3, 4, 5, 6, 7, 8, 9])"
            ]
          },
          "metadata": {
            "tags": []
          },
          "execution_count": 22
        }
      ]
    },
    {
      "cell_type": "code",
      "metadata": {
        "id": "bpikVuiIAjXc",
        "colab_type": "code",
        "outputId": "683e8073-5c4c-4cfa-f577-f40c25262da5",
        "colab": {
          "base_uri": "https://localhost:8080/",
          "height": 51
        }
      },
      "source": [
        "print(a2)\n",
        "print(a3)"
      ],
      "execution_count": 0,
      "outputs": [
        {
          "output_type": "stream",
          "text": [
            "[0 1 2 3 4 5 6 7 8 9]\n",
            "[0 1 2 3 4 5 6 7 8 9]\n"
          ],
          "name": "stdout"
        }
      ]
    },
    {
      "cell_type": "code",
      "metadata": {
        "id": "cYfFea1UAtJP",
        "colab_type": "code",
        "outputId": "16fcab85-9973-43a4-86c1-c75a85c9cc33",
        "colab": {
          "base_uri": "https://localhost:8080/",
          "height": 85
        }
      },
      "source": [
        "# Reshaping the array\n",
        "a4 = a1.reshape((1,9))\n",
        "print(a1)\n",
        "print(a4)"
      ],
      "execution_count": 0,
      "outputs": [
        {
          "output_type": "stream",
          "text": [
            "[[9 9 0]\n",
            " [7 2 5]\n",
            " [7 0 2]]\n",
            "[[9 9 0 7 2 5 7 0 2]]\n"
          ],
          "name": "stdout"
        }
      ]
    },
    {
      "cell_type": "code",
      "metadata": {
        "id": "pQ8fRcp5A71T",
        "colab_type": "code",
        "outputId": "73b867e8-3224-4c80-c1bb-cf70d17799ac",
        "colab": {
          "base_uri": "https://localhost:8080/",
          "height": 136
        }
      },
      "source": [
        "# Join (Concatenate) Arrays\n",
        "a5 = np.arange(1,11)\n",
        "a6 = np.arange(11,21)\n",
        "print(a5)\n",
        "print(a6)\n",
        "np.concatenate([a5, a6, a6, a5]) #In Python, a 'list' is put together with square brackets, in R we typically use c()\n",
        "np.concatenate([a5, a6, a6, a5]).reshape((5,8)) #Combine concatenation with a reshape"
      ],
      "execution_count": 0,
      "outputs": [
        {
          "output_type": "stream",
          "text": [
            "[ 1  2  3  4  5  6  7  8  9 10]\n",
            "[11 12 13 14 15 16 17 18 19 20]\n"
          ],
          "name": "stdout"
        },
        {
          "output_type": "execute_result",
          "data": {
            "text/plain": [
              "array([[ 1,  2,  3,  4,  5,  6,  7,  8],\n",
              "       [ 9, 10, 11, 12, 13, 14, 15, 16],\n",
              "       [17, 18, 19, 20, 11, 12, 13, 14],\n",
              "       [15, 16, 17, 18, 19, 20,  1,  2],\n",
              "       [ 3,  4,  5,  6,  7,  8,  9, 10]])"
            ]
          },
          "metadata": {
            "tags": []
          },
          "execution_count": 25
        }
      ]
    },
    {
      "cell_type": "code",
      "metadata": {
        "id": "mTpWF_0SBza4",
        "colab_type": "code",
        "outputId": "fef2de92-4fe7-4fd5-add8-298ef83df4a6",
        "colab": {
          "base_uri": "https://localhost:8080/",
          "height": 51
        }
      },
      "source": [
        "# Split arrays\n",
        "a7 = np.concatenate([a5, a6])\n",
        "print(a7.shape)\n",
        "a71, a72, a73 = np.split(a7, [5,10]) #Specify split-points\n",
        "print(a71, a72, a73)"
      ],
      "execution_count": 0,
      "outputs": [
        {
          "output_type": "stream",
          "text": [
            "(20,)\n",
            "[1 2 3 4 5] [ 6  7  8  9 10] [11 12 13 14 15 16 17 18 19 20]\n"
          ],
          "name": "stdout"
        }
      ]
    },
    {
      "cell_type": "code",
      "metadata": {
        "id": "EZpzXqR7DEUT",
        "colab_type": "code",
        "outputId": "336c6851-2738-4812-e9b2-3ff08e446ad7",
        "colab": {
          "base_uri": "https://localhost:8080/",
          "height": 102
        }
      },
      "source": [
        "# Split N x M array\n",
        "a8 = np.arange(1,10,1).reshape((3,3))\n",
        "print(a8)\n",
        "# Split first two rows and last row\n",
        "print(np.vsplit(a8, [2]))"
      ],
      "execution_count": 0,
      "outputs": [
        {
          "output_type": "stream",
          "text": [
            "[[1 2 3]\n",
            " [4 5 6]\n",
            " [7 8 9]]\n",
            "[array([[1, 2, 3],\n",
            "       [4, 5, 6]]), array([[7, 8, 9]])]\n"
          ],
          "name": "stdout"
        }
      ]
    },
    {
      "cell_type": "markdown",
      "metadata": {
        "id": "qa0sHEFhDxHq",
        "colab_type": "text"
      },
      "source": [
        "### Vectorized computations with native arithmetic operators\n",
        "\n",
        "The use of these are nearly identical to that in R, except for the specification of the library numpy in front of functions."
      ]
    },
    {
      "cell_type": "code",
      "metadata": {
        "id": "rofHCAd7FiiC",
        "colab_type": "code",
        "outputId": "0c56e3b5-6f1c-48fd-a115-9ddd1e32640f",
        "colab": {
          "base_uri": "https://localhost:8080/",
          "height": 221
        }
      },
      "source": [
        "# Like R, its best to make use of the vectorized nature of Python's native arithmetic operators\n",
        "print(a8)\n",
        "print(a8 * 3)\n",
        "print(a8 ** 2) #Each element to the power of 2\n",
        "print(a8 / 2)"
      ],
      "execution_count": 0,
      "outputs": [
        {
          "output_type": "stream",
          "text": [
            "[[1 2 3]\n",
            " [4 5 6]\n",
            " [7 8 9]]\n",
            "[[ 3  6  9]\n",
            " [12 15 18]\n",
            " [21 24 27]]\n",
            "[[ 1  4  9]\n",
            " [16 25 36]\n",
            " [49 64 81]]\n",
            "[[0.5 1.  1.5]\n",
            " [2.  2.5 3. ]\n",
            " [3.5 4.  4.5]]\n"
          ],
          "name": "stdout"
        }
      ]
    },
    {
      "cell_type": "code",
      "metadata": {
        "id": "QMmSwi71Gcty",
        "colab_type": "code",
        "outputId": "ac2bc6c6-544b-4703-f006-6bf761f6dd9e",
        "colab": {
          "base_uri": "https://localhost:8080/",
          "height": 51
        }
      },
      "source": [
        "# Logarithms\n",
        "print(np.log(np.exp(1)))\n",
        "print(np.log10(100))"
      ],
      "execution_count": 0,
      "outputs": [
        {
          "output_type": "stream",
          "text": [
            "1.0\n",
            "2.0\n"
          ],
          "name": "stdout"
        }
      ]
    },
    {
      "cell_type": "code",
      "metadata": {
        "id": "ThUIIkV5Hwit",
        "colab_type": "code",
        "outputId": "7e7ab62b-09e1-4ed9-8a47-2a8f308e3878",
        "colab": {
          "base_uri": "https://localhost:8080/",
          "height": 68
        }
      },
      "source": [
        "# Specifying output location even within the np function\n",
        "a9 = np.arange(5)\n",
        "a10 = np.zeros(10)\n",
        "print(a9)\n",
        "print(a10)\n",
        "np.multiply(a9, 2, out = a10[::2]) #Multiply every element in a9 by 2, insert into every other element in a10\n",
        "print(a10) #See how the results are inserted into a10"
      ],
      "execution_count": 0,
      "outputs": [
        {
          "output_type": "stream",
          "text": [
            "[0 1 2 3 4]\n",
            "[0. 0. 0. 0. 0. 0. 0. 0. 0. 0.]\n",
            "[0. 0. 2. 0. 4. 0. 6. 0. 8. 0.]\n"
          ],
          "name": "stdout"
        }
      ]
    },
    {
      "cell_type": "markdown",
      "metadata": {
        "id": "nF00uTqmKu4J",
        "colab_type": "text"
      },
      "source": [
        "### Aggregation functions"
      ]
    },
    {
      "cell_type": "code",
      "metadata": {
        "id": "9xrYtXPrLvv8",
        "colab_type": "code",
        "outputId": "5040aa22-2574-42cc-afb3-37c009d7afaf",
        "colab": {
          "base_uri": "https://localhost:8080/",
          "height": 105
        }
      },
      "source": [
        "agg1 = np.random.normal(0,1,100)\n",
        "#NumPy functions are executed in compiled code, so it is faster than base Python `sum`\n",
        "%timeit(sum(agg1))\n",
        "%timeit(np.sum(agg1))"
      ],
      "execution_count": 0,
      "outputs": [
        {
          "output_type": "stream",
          "text": [
            "The slowest run took 4.04 times longer than the fastest. This could mean that an intermediate result is being cached.\n",
            "100000 loops, best of 3: 16.5 µs per loop\n",
            "The slowest run took 15.25 times longer than the fastest. This could mean that an intermediate result is being cached.\n",
            "100000 loops, best of 3: 3.84 µs per loop\n"
          ],
          "name": "stdout"
        }
      ]
    },
    {
      "cell_type": "code",
      "metadata": {
        "id": "--tUL7BCMIST",
        "colab_type": "code",
        "outputId": "03cb13ec-8ca2-4ac2-8226-a16cde9d248f",
        "colab": {
          "base_uri": "https://localhost:8080/",
          "height": 51
        }
      },
      "source": [
        "# Different syntax, the first is closer to R where it takes a form of a function\n",
        "print(np.min(agg1))\n",
        "print(agg1.min())"
      ],
      "execution_count": 0,
      "outputs": [
        {
          "output_type": "stream",
          "text": [
            "-2.4196589409864964\n",
            "-2.4196589409864964\n"
          ],
          "name": "stdout"
        }
      ]
    },
    {
      "cell_type": "code",
      "metadata": {
        "id": "6QBbKPzVMnfe",
        "colab_type": "code",
        "outputId": "d4c7808c-905d-4a0d-9456-58b67c217503",
        "colab": {
          "base_uri": "https://localhost:8080/",
          "height": 85
        }
      },
      "source": [
        "# Aggregation across a row or column for M x N array\n",
        "agg2 = np.random.random(9).reshape((3,3))\n",
        "print(agg2)\n",
        "np.min(agg2, axis = 0) # 0 for column and 1 for row. This is opposite to R's row by col notation."
      ],
      "execution_count": 0,
      "outputs": [
        {
          "output_type": "stream",
          "text": [
            "[[0.9942981  0.37818075 0.60262291]\n",
            " [0.32788228 0.39151336 0.32985034]\n",
            " [0.77227162 0.05002726 0.50186952]]\n"
          ],
          "name": "stdout"
        },
        {
          "output_type": "execute_result",
          "data": {
            "text/plain": [
              "array([0.32788228, 0.05002726, 0.32985034])"
            ]
          },
          "metadata": {
            "tags": []
          },
          "execution_count": 33
        }
      ]
    },
    {
      "cell_type": "code",
      "metadata": {
        "id": "OcEEYj7-NK47",
        "colab_type": "code",
        "outputId": "a4b1574a-58f8-4b0f-c560-23cbe83b39a5",
        "colab": {
          "base_uri": "https://localhost:8080/",
          "height": 68
        }
      },
      "source": [
        "# Aggregation with missing values\n",
        "# In R we handle these with the argument `na.rm = TRUE`\n",
        "# In Python we have to use NaN functions to cater for the presence missing values\n",
        "agg3 = np.array([np.nan, 1, 2])\n",
        "print(agg3)\n",
        "print(np.sum(agg3))\n",
        "print(np.nansum(agg3))"
      ],
      "execution_count": 0,
      "outputs": [
        {
          "output_type": "stream",
          "text": [
            "[nan  1.  2.]\n",
            "nan\n",
            "3.0\n"
          ],
          "name": "stdout"
        }
      ]
    },
    {
      "cell_type": "code",
      "metadata": {
        "id": "yPQ00JmXOSYr",
        "colab_type": "code",
        "colab": {}
      },
      "source": [
        "import pandas as pd"
      ],
      "execution_count": 0,
      "outputs": []
    },
    {
      "cell_type": "code",
      "metadata": {
        "id": "4gxIgpYXPMw0",
        "colab_type": "code",
        "colab": {}
      },
      "source": [
        "height = pd.read_csv('https://raw.githubusercontent.com/jakevdp/PythonDataScienceHandbook/master/notebooks/data/president_heights.csv')"
      ],
      "execution_count": 0,
      "outputs": []
    },
    {
      "cell_type": "code",
      "metadata": {
        "id": "avw8tRbAPgHU",
        "colab_type": "code",
        "outputId": "a79f84eb-844c-40d9-bb59-f285d4036189",
        "colab": {
          "base_uri": "https://localhost:8080/",
          "height": 204
        }
      },
      "source": [
        "height.head()"
      ],
      "execution_count": 0,
      "outputs": [
        {
          "output_type": "execute_result",
          "data": {
            "text/html": [
              "<div>\n",
              "<style scoped>\n",
              "    .dataframe tbody tr th:only-of-type {\n",
              "        vertical-align: middle;\n",
              "    }\n",
              "\n",
              "    .dataframe tbody tr th {\n",
              "        vertical-align: top;\n",
              "    }\n",
              "\n",
              "    .dataframe thead th {\n",
              "        text-align: right;\n",
              "    }\n",
              "</style>\n",
              "<table border=\"1\" class=\"dataframe\">\n",
              "  <thead>\n",
              "    <tr style=\"text-align: right;\">\n",
              "      <th></th>\n",
              "      <th>order</th>\n",
              "      <th>name</th>\n",
              "      <th>height(cm)</th>\n",
              "    </tr>\n",
              "  </thead>\n",
              "  <tbody>\n",
              "    <tr>\n",
              "      <th>0</th>\n",
              "      <td>1</td>\n",
              "      <td>George Washington</td>\n",
              "      <td>189</td>\n",
              "    </tr>\n",
              "    <tr>\n",
              "      <th>1</th>\n",
              "      <td>2</td>\n",
              "      <td>John Adams</td>\n",
              "      <td>170</td>\n",
              "    </tr>\n",
              "    <tr>\n",
              "      <th>2</th>\n",
              "      <td>3</td>\n",
              "      <td>Thomas Jefferson</td>\n",
              "      <td>189</td>\n",
              "    </tr>\n",
              "    <tr>\n",
              "      <th>3</th>\n",
              "      <td>4</td>\n",
              "      <td>James Madison</td>\n",
              "      <td>163</td>\n",
              "    </tr>\n",
              "    <tr>\n",
              "      <th>4</th>\n",
              "      <td>5</td>\n",
              "      <td>James Monroe</td>\n",
              "      <td>183</td>\n",
              "    </tr>\n",
              "  </tbody>\n",
              "</table>\n",
              "</div>"
            ],
            "text/plain": [
              "   order               name  height(cm)\n",
              "0      1  George Washington         189\n",
              "1      2         John Adams         170\n",
              "2      3   Thomas Jefferson         189\n",
              "3      4      James Madison         163\n",
              "4      5       James Monroe         183"
            ]
          },
          "metadata": {
            "tags": []
          },
          "execution_count": 37
        }
      ]
    },
    {
      "cell_type": "code",
      "metadata": {
        "id": "ylV680MTPkkr",
        "colab_type": "code",
        "outputId": "2861f09c-588b-4205-d1f7-afe02851ec52",
        "colab": {
          "base_uri": "https://localhost:8080/",
          "height": 102
        }
      },
      "source": [
        "#Basic statistics computation\n",
        "print(np.mean(height['height(cm)'])) # OR\n",
        "print(height['height(cm)'].mean())\n",
        "print(np.std(height['height(cm)'])) #R uses sd() instead\n",
        "print(np.percentile(height['height(cm)'], 50))\n",
        "print(np.median(height['height(cm)']))  "
      ],
      "execution_count": 0,
      "outputs": [
        {
          "output_type": "stream",
          "text": [
            "179.73809523809524\n",
            "179.73809523809524\n",
            "6.931843442745893\n",
            "182.0\n",
            "182.0\n"
          ],
          "name": "stdout"
        }
      ]
    },
    {
      "cell_type": "markdown",
      "metadata": {
        "id": "B5-eZt1HQj1a",
        "colab_type": "text"
      },
      "source": [
        "### Using Booleans"
      ]
    },
    {
      "cell_type": "code",
      "metadata": {
        "id": "0xmRUB76SMaM",
        "colab_type": "code",
        "outputId": "321a8c23-00fb-4d08-ccc4-c71c577fa48f",
        "colab": {
          "base_uri": "https://localhost:8080/",
          "height": 187
        }
      },
      "source": [
        "boo1 = np.random.randint(0,10, (5,5))\n",
        "print(boo1)\n",
        "print(boo1 < 5)"
      ],
      "execution_count": 0,
      "outputs": [
        {
          "output_type": "stream",
          "text": [
            "[[9 4 7 3 0]\n",
            " [2 7 3 4 7]\n",
            " [3 6 7 8 0]\n",
            " [4 8 5 2 0]\n",
            " [7 5 9 7 0]]\n",
            "[[False  True False  True  True]\n",
            " [ True False  True  True False]\n",
            " [ True False False False  True]\n",
            " [ True False False  True  True]\n",
            " [False False False False  True]]\n"
          ],
          "name": "stdout"
        }
      ]
    },
    {
      "cell_type": "code",
      "metadata": {
        "id": "dw5MV0JRSqM1",
        "colab_type": "code",
        "outputId": "8fd50364-2bb6-417d-bdb1-8bf7f4935a01",
        "colab": {
          "base_uri": "https://localhost:8080/",
          "height": 34
        }
      },
      "source": [
        "# You can also perform arithmetic using booleans directly, without the need to subset first\n",
        "# In R we would've written a longer line with base R like so - sum(boo1[boo1 < 5])\n",
        "np.sum(boo1 < 5)\n",
        "# You can even specify whether the computation is to be done via row or column\n",
        "print(np.sum(boo1 < 5, axis = 0)) #1 for Row (remember - opposite to R!)"
      ],
      "execution_count": 0,
      "outputs": [
        {
          "output_type": "stream",
          "text": [
            "[3 1 1 3 4]\n"
          ],
          "name": "stdout"
        }
      ]
    },
    {
      "cell_type": "code",
      "metadata": {
        "id": "girxGMnoSx_X",
        "colab_type": "code",
        "outputId": "2aa57418-901d-4045-e52f-a88f8a2bbcaf",
        "colab": {
          "base_uri": "https://localhost:8080/",
          "height": 85
        }
      },
      "source": [
        "# Counting elements that meet criteria\n",
        "print(np.count_nonzero(boo1 < 5))\n",
        "print(np.count_nonzero(boo1 < 5, axis = 0))\n",
        "\n",
        "# Just to check if TRUE/FALSE\n",
        "print(np.any(boo1 == 5, axis = 0))\n",
        "print(np.all(boo1 == 5, axis = 0))"
      ],
      "execution_count": 0,
      "outputs": [
        {
          "output_type": "stream",
          "text": [
            "12\n",
            "[3 1 1 3 4]\n",
            "[False  True  True False False]\n",
            "[False False False False False]\n"
          ],
          "name": "stdout"
        }
      ]
    },
    {
      "cell_type": "code",
      "metadata": {
        "id": "26Ix8X2MTYAP",
        "colab_type": "code",
        "outputId": "cf9b9af0-e6dd-49dc-8cb0-ce91bde781bc",
        "colab": {
          "base_uri": "https://localhost:8080/",
          "height": 51
        }
      },
      "source": [
        "# Combining boolean operators. Make sure to use parentheses properly.\n",
        "print(np.sum((boo1 > 1) & (boo1 < 5)))\n",
        "\n",
        "# Python uses `~` to denote negative selection while R uses `!`\n",
        "print(np.sum(~((boo1 <= 1) | (boo1 >= 5))))"
      ],
      "execution_count": 0,
      "outputs": [
        {
          "output_type": "stream",
          "text": [
            "8\n",
            "8\n"
          ],
          "name": "stdout"
        }
      ]
    },
    {
      "cell_type": "code",
      "metadata": {
        "id": "y8_F9bjpUHPH",
        "colab_type": "code",
        "outputId": "f17770d7-5e73-4cc3-f7c3-7e967000881e",
        "colab": {
          "base_uri": "https://localhost:8080/",
          "height": 119
        }
      },
      "source": [
        "# Using boolean for indexing. This technique is known as masking.\n",
        "print(boo1)\n",
        "print(boo1[boo1 > 5])"
      ],
      "execution_count": 0,
      "outputs": [
        {
          "output_type": "stream",
          "text": [
            "[[9 4 7 3 0]\n",
            " [2 7 3 4 7]\n",
            " [3 6 7 8 0]\n",
            " [4 8 5 2 0]\n",
            " [7 5 9 7 0]]\n",
            "[9 7 7 7 6 7 8 8 7 9 7]\n"
          ],
          "name": "stdout"
        }
      ]
    },
    {
      "cell_type": "markdown",
      "metadata": {
        "id": "osmO8yWZVpnd",
        "colab_type": "text"
      },
      "source": [
        "### Fancy indexing\n",
        "This section is pretty cool, I have not encountered such a technique in R."
      ]
    },
    {
      "cell_type": "code",
      "metadata": {
        "id": "ZPzroRCMVwGu",
        "colab_type": "code",
        "outputId": "7eb14a85-9a9e-4705-999a-883f5b1b7b92",
        "colab": {
          "base_uri": "https://localhost:8080/",
          "height": 68
        }
      },
      "source": [
        "# You can pass your index with a shape, to ensure that the output returns in the same shape.\n",
        "boo2 = np.arange(1,11,1)\n",
        "print(boo2)\n",
        "boo2_ind = np.array([[0,1],[2,3]]) #Select elements 1-4 with a 2x2 shape\n",
        "print(boo2[boo2_ind])"
      ],
      "execution_count": 0,
      "outputs": [
        {
          "output_type": "stream",
          "text": [
            "[ 1  2  3  4  5  6  7  8  9 10]\n",
            "[[1 2]\n",
            " [3 4]]\n"
          ],
          "name": "stdout"
        }
      ]
    },
    {
      "cell_type": "code",
      "metadata": {
        "id": "6Wz8l-tXXmrZ",
        "colab_type": "code",
        "outputId": "39c88a18-97da-4d08-fe63-148026ffa119",
        "colab": {
          "base_uri": "https://localhost:8080/",
          "height": 51
        }
      },
      "source": [
        "# Overwrite array elements with indexing\n",
        "print(boo2)\n",
        "boo2_ind2 = np.array([1,2,3])\n",
        "boo2[boo2_ind2] = 9999\n",
        "print(boo2)"
      ],
      "execution_count": 0,
      "outputs": [
        {
          "output_type": "stream",
          "text": [
            "[ 1  2  3  4  5  6  7  8  9 10]\n",
            "[   1 9999 9999 9999    5    6    7    8    9   10]\n"
          ],
          "name": "stdout"
        }
      ]
    },
    {
      "cell_type": "markdown",
      "metadata": {
        "id": "ai7LzhQSV9--",
        "colab_type": "text"
      },
      "source": [
        "### Sorting Arrays"
      ]
    },
    {
      "cell_type": "code",
      "metadata": {
        "id": "W5G_z-r9WEul",
        "colab_type": "code",
        "outputId": "dc2d2b09-1107-4863-bcd1-bba50833b4a7",
        "colab": {
          "base_uri": "https://localhost:8080/",
          "height": 34
        }
      },
      "source": [
        "sort1 = np.array([\"hello\",\"world\",\"abc\"])\n",
        "print(sort1)"
      ],
      "execution_count": 0,
      "outputs": [
        {
          "output_type": "stream",
          "text": [
            "['hello' 'world' 'abc']\n"
          ],
          "name": "stdout"
        }
      ]
    },
    {
      "cell_type": "code",
      "metadata": {
        "id": "k-__EB4qWhh1",
        "colab_type": "code",
        "outputId": "ee52a3dd-147e-45fc-f5c0-01740f8b6d88",
        "colab": {
          "base_uri": "https://localhost:8080/",
          "height": 34
        }
      },
      "source": [
        "np.sort(sort1)"
      ],
      "execution_count": 0,
      "outputs": [
        {
          "output_type": "execute_result",
          "data": {
            "text/plain": [
              "array(['abc', 'hello', 'world'], dtype='<U5')"
            ]
          },
          "metadata": {
            "tags": []
          },
          "execution_count": 47
        }
      ]
    },
    {
      "cell_type": "code",
      "metadata": {
        "id": "qaGNGmk_WkFg",
        "colab_type": "code",
        "outputId": "df005e28-16b3-4c08-e67f-369ac6e39406",
        "colab": {
          "base_uri": "https://localhost:8080/",
          "height": 51
        }
      },
      "source": [
        "sort2 = np.random.randint(0,100,10)\n",
        "print(sort2)\n",
        "np.sort(sort2)"
      ],
      "execution_count": 0,
      "outputs": [
        {
          "output_type": "stream",
          "text": [
            "[25 33 33 89 85 86 34 46 26 18]\n"
          ],
          "name": "stdout"
        },
        {
          "output_type": "execute_result",
          "data": {
            "text/plain": [
              "array([18, 25, 26, 33, 33, 34, 46, 85, 86, 89])"
            ]
          },
          "metadata": {
            "tags": []
          },
          "execution_count": 48
        }
      ]
    },
    {
      "cell_type": "markdown",
      "metadata": {
        "id": "qIY3D40cW3OL",
        "colab_type": "text"
      },
      "source": [
        "## Pandas"
      ]
    },
    {
      "cell_type": "code",
      "metadata": {
        "id": "4KZEA0g0W54d",
        "colab_type": "code",
        "outputId": "f47f2db3-cbb3-4eda-fb8f-3494d20aa8e9",
        "colab": {
          "base_uri": "https://localhost:8080/",
          "height": 34
        }
      },
      "source": [
        "import pandas as pd\n",
        "pd.__version__"
      ],
      "execution_count": 0,
      "outputs": [
        {
          "output_type": "execute_result",
          "data": {
            "text/plain": [
              "'1.0.3'"
            ]
          },
          "metadata": {
            "tags": []
          },
          "execution_count": 49
        }
      ]
    },
    {
      "cell_type": "markdown",
      "metadata": {
        "id": "IOvO4T9YXM7l",
        "colab_type": "text"
      },
      "source": [
        "### Pandas Series\n",
        "A Pandas `Series` is a one-dimensional array of indexed data. It can be created from a list or array as follows:"
      ]
    },
    {
      "cell_type": "code",
      "metadata": {
        "id": "me6DdSo2XZE1",
        "colab_type": "code",
        "outputId": "54b104b8-4bdf-4cbb-e00e-f133a3ee0c35",
        "colab": {
          "base_uri": "https://localhost:8080/",
          "height": 119
        }
      },
      "source": [
        "series1 = pd.Series([1,2,3.5])\n",
        "print(series1)\n",
        "# A Pandas Series contains an Index and the Values\n",
        "print(series1.values)\n",
        "print(series1.index)"
      ],
      "execution_count": 0,
      "outputs": [
        {
          "output_type": "stream",
          "text": [
            "0    1.0\n",
            "1    2.0\n",
            "2    3.5\n",
            "dtype: float64\n",
            "[1.  2.  3.5]\n",
            "RangeIndex(start=0, stop=3, step=1)\n"
          ],
          "name": "stdout"
        }
      ]
    },
    {
      "cell_type": "code",
      "metadata": {
        "id": "OV6GUUs-XO4v",
        "colab_type": "code",
        "outputId": "a607e057-8304-4fe4-d3a4-2853bf19ecf9",
        "colab": {
          "base_uri": "https://localhost:8080/",
          "height": 85
        }
      },
      "source": [
        "# Indexing is the same as a NumPy array\n",
        "print(series1[0:2])\n",
        "\n",
        "# If you provide a custom index, you can use that too\n",
        "series2 = pd.Series([11,12,13], index = [\"a\",\"b\",\"c\"])\n",
        "print(series2[\"b\"])"
      ],
      "execution_count": 0,
      "outputs": [
        {
          "output_type": "stream",
          "text": [
            "0    1.0\n",
            "1    2.0\n",
            "dtype: float64\n",
            "12\n"
          ],
          "name": "stdout"
        }
      ]
    },
    {
      "cell_type": "code",
      "metadata": {
        "id": "WoxIoRatPqd-",
        "colab_type": "code",
        "outputId": "c416f6b5-a1e4-41f5-ea90-130683244aa2",
        "colab": {
          "base_uri": "https://localhost:8080/",
          "height": 136
        }
      },
      "source": [
        "# Create a Series from a dictionary\n",
        "# Dictionary is a key/index : value pair\n",
        "series3 = pd.Series(\n",
        "    {'Andrew' : 90,\n",
        "     'Bryan' : 91,\n",
        "     'Charles' : 95}\n",
        ")\n",
        "print(series3)\n",
        "\n",
        "# The only difference is that a Series can be sliced like an Array\n",
        "series3['Andrew':'Bryan']"
      ],
      "execution_count": 0,
      "outputs": [
        {
          "output_type": "stream",
          "text": [
            "Andrew     90\n",
            "Bryan      91\n",
            "Charles    95\n",
            "dtype: int64\n"
          ],
          "name": "stdout"
        },
        {
          "output_type": "execute_result",
          "data": {
            "text/plain": [
              "Andrew    90\n",
              "Bryan     91\n",
              "dtype: int64"
            ]
          },
          "metadata": {
            "tags": []
          },
          "execution_count": 52
        }
      ]
    },
    {
      "cell_type": "markdown",
      "metadata": {
        "id": "2XgHg0PxQHyG",
        "colab_type": "text"
      },
      "source": [
        "### Pandas DataFrame"
      ]
    },
    {
      "cell_type": "code",
      "metadata": {
        "id": "SWApRLyWSTmA",
        "colab_type": "code",
        "outputId": "5916bfb0-317a-42f6-d37c-c1f4110f7d5c",
        "colab": {
          "base_uri": "https://localhost:8080/",
          "height": 142
        }
      },
      "source": [
        "# Creating a Dataframe\n",
        "df1 = pd.DataFrame(\n",
        "    {'Names': np.array(['Apple','Bear','Cat']),\n",
        "     'Scores': np.random.randint(50,100,3)\n",
        "     }\n",
        "     )\n",
        "df1"
      ],
      "execution_count": 0,
      "outputs": [
        {
          "output_type": "execute_result",
          "data": {
            "text/html": [
              "<div>\n",
              "<style scoped>\n",
              "    .dataframe tbody tr th:only-of-type {\n",
              "        vertical-align: middle;\n",
              "    }\n",
              "\n",
              "    .dataframe tbody tr th {\n",
              "        vertical-align: top;\n",
              "    }\n",
              "\n",
              "    .dataframe thead th {\n",
              "        text-align: right;\n",
              "    }\n",
              "</style>\n",
              "<table border=\"1\" class=\"dataframe\">\n",
              "  <thead>\n",
              "    <tr style=\"text-align: right;\">\n",
              "      <th></th>\n",
              "      <th>Names</th>\n",
              "      <th>Scores</th>\n",
              "    </tr>\n",
              "  </thead>\n",
              "  <tbody>\n",
              "    <tr>\n",
              "      <th>0</th>\n",
              "      <td>Apple</td>\n",
              "      <td>52</td>\n",
              "    </tr>\n",
              "    <tr>\n",
              "      <th>1</th>\n",
              "      <td>Bear</td>\n",
              "      <td>73</td>\n",
              "    </tr>\n",
              "    <tr>\n",
              "      <th>2</th>\n",
              "      <td>Cat</td>\n",
              "      <td>64</td>\n",
              "    </tr>\n",
              "  </tbody>\n",
              "</table>\n",
              "</div>"
            ],
            "text/plain": [
              "   Names  Scores\n",
              "0  Apple      52\n",
              "1   Bear      73\n",
              "2    Cat      64"
            ]
          },
          "metadata": {
            "tags": []
          },
          "execution_count": 53
        }
      ]
    },
    {
      "cell_type": "code",
      "metadata": {
        "id": "xAVNhEp8Uzrl",
        "colab_type": "code",
        "outputId": "ff4b49ee-1b28-4e28-bb4f-5d2a3725d929",
        "colab": {
          "base_uri": "https://localhost:8080/",
          "height": 68
        }
      },
      "source": [
        "df1.dtypes #Closest thing to R's str()"
      ],
      "execution_count": 0,
      "outputs": [
        {
          "output_type": "execute_result",
          "data": {
            "text/plain": [
              "Names     object\n",
              "Scores     int64\n",
              "dtype: object"
            ]
          },
          "metadata": {
            "tags": []
          },
          "execution_count": 54
        }
      ]
    },
    {
      "cell_type": "code",
      "metadata": {
        "id": "b6h1jTSTU61V",
        "colab_type": "code",
        "outputId": "a0011c8a-4aba-4bbd-aad5-815b7384773c",
        "colab": {
          "base_uri": "https://localhost:8080/",
          "height": 51
        }
      },
      "source": [
        "# Two useful attributes of the DataFrame object\n",
        "print(df1.index)\n",
        "print(df1.columns)"
      ],
      "execution_count": 0,
      "outputs": [
        {
          "output_type": "stream",
          "text": [
            "RangeIndex(start=0, stop=3, step=1)\n",
            "Index(['Names', 'Scores'], dtype='object')\n"
          ],
          "name": "stdout"
        }
      ]
    },
    {
      "cell_type": "code",
      "metadata": {
        "id": "sNUInkXXV-A_",
        "colab_type": "code",
        "outputId": "de6d8746-f7a6-452e-82fc-56c827e2a9c4",
        "colab": {
          "base_uri": "https://localhost:8080/",
          "height": 142
        }
      },
      "source": [
        "# convert a two dimensional NumPy array into a DF\n",
        "df2 = pd.DataFrame(np.random.rand(3,2),\n",
        "             columns = ['colA','colB'])\n",
        "df2"
      ],
      "execution_count": 0,
      "outputs": [
        {
          "output_type": "execute_result",
          "data": {
            "text/html": [
              "<div>\n",
              "<style scoped>\n",
              "    .dataframe tbody tr th:only-of-type {\n",
              "        vertical-align: middle;\n",
              "    }\n",
              "\n",
              "    .dataframe tbody tr th {\n",
              "        vertical-align: top;\n",
              "    }\n",
              "\n",
              "    .dataframe thead th {\n",
              "        text-align: right;\n",
              "    }\n",
              "</style>\n",
              "<table border=\"1\" class=\"dataframe\">\n",
              "  <thead>\n",
              "    <tr style=\"text-align: right;\">\n",
              "      <th></th>\n",
              "      <th>colA</th>\n",
              "      <th>colB</th>\n",
              "    </tr>\n",
              "  </thead>\n",
              "  <tbody>\n",
              "    <tr>\n",
              "      <th>0</th>\n",
              "      <td>0.662338</td>\n",
              "      <td>0.286454</td>\n",
              "    </tr>\n",
              "    <tr>\n",
              "      <th>1</th>\n",
              "      <td>0.358689</td>\n",
              "      <td>0.443253</td>\n",
              "    </tr>\n",
              "    <tr>\n",
              "      <th>2</th>\n",
              "      <td>0.169733</td>\n",
              "      <td>0.690238</td>\n",
              "    </tr>\n",
              "  </tbody>\n",
              "</table>\n",
              "</div>"
            ],
            "text/plain": [
              "       colA      colB\n",
              "0  0.662338  0.286454\n",
              "1  0.358689  0.443253\n",
              "2  0.169733  0.690238"
            ]
          },
          "metadata": {
            "tags": []
          },
          "execution_count": 56
        }
      ]
    },
    {
      "cell_type": "markdown",
      "metadata": {
        "id": "xpcPIgPdYfKG",
        "colab_type": "text"
      },
      "source": [
        "### Indexing with index attributes - loc and iloc and accessing rows or columns explictly with `.` method\n",
        "`loc` uses the **explicit** index (ie. the actual index names) while `iloc` will use implicit (ie. the numbered positions).\n",
        "`iloc` is probably the more commonly used ones as I believe most DFs don't come with proper keys..."
      ]
    },
    {
      "cell_type": "code",
      "metadata": {
        "id": "s5aK-A46YuXt",
        "colab_type": "code",
        "outputId": "7341fe63-05cc-4102-ff5d-60dbd5beffc0",
        "colab": {
          "base_uri": "https://localhost:8080/",
          "height": 187
        }
      },
      "source": [
        "# Showcasing what the difference is between explicit and implicit indexing\n",
        "df3 = pd.DataFrame(np.random.rand(3,2),\n",
        "             columns = ['colA','colB'],\n",
        "             index = [1,2,3])\n",
        "print(df3)\n",
        "print(df3.loc[1]) #Calls the row named '1' in the index\n",
        "print(df3.iloc[1]) #Calls the row at position 1 in the index (recall position 1 is row 2)"
      ],
      "execution_count": 0,
      "outputs": [
        {
          "output_type": "stream",
          "text": [
            "       colA      colB\n",
            "1  0.583223  0.295335\n",
            "2  0.833839  0.054124\n",
            "3  0.636040  0.933769\n",
            "colA    0.583223\n",
            "colB    0.295335\n",
            "Name: 1, dtype: float64\n",
            "colA    0.833839\n",
            "colB    0.054124\n",
            "Name: 2, dtype: float64\n"
          ],
          "name": "stdout"
        }
      ]
    },
    {
      "cell_type": "code",
      "metadata": {
        "id": "p4NIvpg73OdI",
        "colab_type": "code",
        "outputId": "c9d6ed7d-0fda-491d-cb88-b8989436f927",
        "colab": {
          "base_uri": "https://localhost:8080/",
          "height": 102
        }
      },
      "source": [
        "#Access row of Series\n",
        "print(series3)\n",
        "print(series3.Andrew)"
      ],
      "execution_count": 0,
      "outputs": [
        {
          "output_type": "stream",
          "text": [
            "Andrew     90\n",
            "Bryan      91\n",
            "Charles    95\n",
            "dtype: int64\n",
            "90\n"
          ],
          "name": "stdout"
        }
      ]
    },
    {
      "cell_type": "code",
      "metadata": {
        "id": "aTwLGrtJ3eEa",
        "colab_type": "code",
        "outputId": "46ffefc2-efa6-4782-97a3-a992e3ae22b9",
        "colab": {
          "base_uri": "https://localhost:8080/",
          "height": 153
        }
      },
      "source": [
        "#Access column of DF\n",
        "print(df3)\n",
        "print(df3.colA)"
      ],
      "execution_count": 0,
      "outputs": [
        {
          "output_type": "stream",
          "text": [
            "       colA      colB\n",
            "1  0.583223  0.295335\n",
            "2  0.833839  0.054124\n",
            "3  0.636040  0.933769\n",
            "1    0.583223\n",
            "2    0.833839\n",
            "3    0.636040\n",
            "Name: colA, dtype: float64\n"
          ],
          "name": "stdout"
        }
      ]
    },
    {
      "cell_type": "markdown",
      "metadata": {
        "id": "WeADPSplvM45",
        "colab_type": "text"
      },
      "source": [
        "### Indexing with filter on columns"
      ]
    },
    {
      "cell_type": "code",
      "metadata": {
        "id": "DveUboaxuUIr",
        "colab_type": "code",
        "outputId": "ea6f158a-6e65-4233-de90-c45db805f2d5",
        "colab": {
          "base_uri": "https://localhost:8080/",
          "height": 80
        }
      },
      "source": [
        "df3[df3.colB > 0.9]"
      ],
      "execution_count": 0,
      "outputs": [
        {
          "output_type": "execute_result",
          "data": {
            "text/html": [
              "<div>\n",
              "<style scoped>\n",
              "    .dataframe tbody tr th:only-of-type {\n",
              "        vertical-align: middle;\n",
              "    }\n",
              "\n",
              "    .dataframe tbody tr th {\n",
              "        vertical-align: top;\n",
              "    }\n",
              "\n",
              "    .dataframe thead th {\n",
              "        text-align: right;\n",
              "    }\n",
              "</style>\n",
              "<table border=\"1\" class=\"dataframe\">\n",
              "  <thead>\n",
              "    <tr style=\"text-align: right;\">\n",
              "      <th></th>\n",
              "      <th>colA</th>\n",
              "      <th>colB</th>\n",
              "    </tr>\n",
              "  </thead>\n",
              "  <tbody>\n",
              "    <tr>\n",
              "      <th>3</th>\n",
              "      <td>0.63604</td>\n",
              "      <td>0.933769</td>\n",
              "    </tr>\n",
              "  </tbody>\n",
              "</table>\n",
              "</div>"
            ],
            "text/plain": [
              "      colA      colB\n",
              "3  0.63604  0.933769"
            ]
          },
          "metadata": {
            "tags": []
          },
          "execution_count": 72
        }
      ]
    },
    {
      "cell_type": "markdown",
      "metadata": {
        "id": "brXKD4EAvb-7",
        "colab_type": "text"
      },
      "source": [
        "### Operating on Pandas DF"
      ]
    },
    {
      "cell_type": "code",
      "metadata": {
        "id": "MgtZfCDhvfHL",
        "colab_type": "code",
        "outputId": "8c168305-51ae-41a8-d5c4-bf0213eca3e0",
        "colab": {
          "base_uri": "https://localhost:8080/",
          "height": 102
        }
      },
      "source": [
        "#My guess is that the below is like set.seed() in R\n",
        "seed = np.random.RandomState(42)\n",
        "op1 = pd.Series(seed.randint(0, 10, 4))\n",
        "op1\n"
      ],
      "execution_count": 0,
      "outputs": [
        {
          "output_type": "execute_result",
          "data": {
            "text/plain": [
              "0    6\n",
              "1    3\n",
              "2    7\n",
              "3    4\n",
              "dtype: int64"
            ]
          },
          "metadata": {
            "tags": []
          },
          "execution_count": 79
        }
      ]
    },
    {
      "cell_type": "code",
      "metadata": {
        "id": "g4z0HOrkwW2v",
        "colab_type": "code",
        "outputId": "8cdbe07a-f090-4110-a77a-a3e512fac2a2",
        "colab": {
          "base_uri": "https://localhost:8080/",
          "height": 142
        }
      },
      "source": [
        "#Create a 3x4 matrix filled with random integers ranging 0-10\n",
        "op2 = pd.DataFrame(seed.randint(0, 10, size = (3,4)),\n",
        "                   columns = ['A','B','C','D'])\n",
        "op2"
      ],
      "execution_count": 0,
      "outputs": [
        {
          "output_type": "execute_result",
          "data": {
            "text/html": [
              "<div>\n",
              "<style scoped>\n",
              "    .dataframe tbody tr th:only-of-type {\n",
              "        vertical-align: middle;\n",
              "    }\n",
              "\n",
              "    .dataframe tbody tr th {\n",
              "        vertical-align: top;\n",
              "    }\n",
              "\n",
              "    .dataframe thead th {\n",
              "        text-align: right;\n",
              "    }\n",
              "</style>\n",
              "<table border=\"1\" class=\"dataframe\">\n",
              "  <thead>\n",
              "    <tr style=\"text-align: right;\">\n",
              "      <th></th>\n",
              "      <th>A</th>\n",
              "      <th>B</th>\n",
              "      <th>C</th>\n",
              "      <th>D</th>\n",
              "    </tr>\n",
              "  </thead>\n",
              "  <tbody>\n",
              "    <tr>\n",
              "      <th>0</th>\n",
              "      <td>6</td>\n",
              "      <td>3</td>\n",
              "      <td>8</td>\n",
              "      <td>2</td>\n",
              "    </tr>\n",
              "    <tr>\n",
              "      <th>1</th>\n",
              "      <td>4</td>\n",
              "      <td>2</td>\n",
              "      <td>6</td>\n",
              "      <td>4</td>\n",
              "    </tr>\n",
              "    <tr>\n",
              "      <th>2</th>\n",
              "      <td>8</td>\n",
              "      <td>6</td>\n",
              "      <td>1</td>\n",
              "      <td>3</td>\n",
              "    </tr>\n",
              "  </tbody>\n",
              "</table>\n",
              "</div>"
            ],
            "text/plain": [
              "   A  B  C  D\n",
              "0  6  3  8  2\n",
              "1  4  2  6  4\n",
              "2  8  6  1  3"
            ]
          },
          "metadata": {
            "tags": []
          },
          "execution_count": 82
        }
      ]
    },
    {
      "cell_type": "code",
      "metadata": {
        "id": "iwG7nHTwwn4M",
        "colab_type": "code",
        "outputId": "f30311d1-0ae1-4125-e4c6-64be45035239",
        "colab": {
          "base_uri": "https://localhost:8080/",
          "height": 170
        }
      },
      "source": [
        "#Showcasing that element-wise operation works on Pandas Series and DF objects\n",
        "print(op1*2)\n",
        "print(op2*2)"
      ],
      "execution_count": 0,
      "outputs": [
        {
          "output_type": "stream",
          "text": [
            "0    12\n",
            "1     6\n",
            "2    14\n",
            "3     8\n",
            "dtype: int64\n",
            "    A   B   C  D\n",
            "0  12   6  16  4\n",
            "1   8   4  12  8\n",
            "2  16  12   2  6\n"
          ],
          "name": "stdout"
        }
      ]
    },
    {
      "cell_type": "code",
      "metadata": {
        "id": "4-3zFqDPxEYm",
        "colab_type": "code",
        "outputId": "8833eed0-f2a6-4e88-a4c6-54549450ff29",
        "colab": {
          "base_uri": "https://localhost:8080/",
          "height": 153
        }
      },
      "source": [
        "#Eg. to show Pandas is smart enough to align across objects with different indices\n",
        "area = pd.Series({'Alaska': 1723337, 'Texas': 695662,\n",
        "                  'California': 423967}, name='area')\n",
        "population = pd.Series({'California': 38332521, 'Texas': 26448193,\n",
        "                        'New York': 19651127}, name='population')\n",
        "print(area)\n",
        "print(population)"
      ],
      "execution_count": 0,
      "outputs": [
        {
          "output_type": "stream",
          "text": [
            "Alaska        1723337\n",
            "Texas          695662\n",
            "California     423967\n",
            "Name: area, dtype: int64\n",
            "California    38332521\n",
            "Texas         26448193\n",
            "New York      19651127\n",
            "Name: population, dtype: int64\n"
          ],
          "name": "stdout"
        }
      ]
    },
    {
      "cell_type": "code",
      "metadata": {
        "id": "rjXFFaZrxUPj",
        "colab_type": "code",
        "colab": {}
      },
      "source": [
        "population/area"
      ],
      "execution_count": 0,
      "outputs": []
    },
    {
      "cell_type": "markdown",
      "metadata": {
        "id": "az0Zu_xT35FU",
        "colab_type": "text"
      },
      "source": [
        "### Missing data in Pandas"
      ]
    },
    {
      "cell_type": "code",
      "metadata": {
        "id": "tHPvj_ao3624",
        "colab_type": "code",
        "outputId": "1031b219-7c04-434c-f122-0ad3bca93a40",
        "colab": {
          "base_uri": "https://localhost:8080/",
          "height": 197
        }
      },
      "source": [
        "missing1 = np.array([1, None, 3, 4])\n",
        "sum(missing1)"
      ],
      "execution_count": 0,
      "outputs": [
        {
          "output_type": "error",
          "ename": "TypeError",
          "evalue": "ignored",
          "traceback": [
            "\u001b[0;31m---------------------------------------------------------------------------\u001b[0m",
            "\u001b[0;31mTypeError\u001b[0m                                 Traceback (most recent call last)",
            "\u001b[0;32m<ipython-input-114-4348d8ac3f80>\u001b[0m in \u001b[0;36m<module>\u001b[0;34m()\u001b[0m\n\u001b[1;32m      1\u001b[0m \u001b[0mmissing1\u001b[0m \u001b[0;34m=\u001b[0m \u001b[0mnp\u001b[0m\u001b[0;34m.\u001b[0m\u001b[0marray\u001b[0m\u001b[0;34m(\u001b[0m\u001b[0;34m[\u001b[0m\u001b[0;36m1\u001b[0m\u001b[0;34m,\u001b[0m \u001b[0;32mNone\u001b[0m\u001b[0;34m,\u001b[0m \u001b[0;36m3\u001b[0m\u001b[0;34m,\u001b[0m \u001b[0;36m4\u001b[0m\u001b[0;34m]\u001b[0m\u001b[0;34m)\u001b[0m\u001b[0;34m\u001b[0m\u001b[0;34m\u001b[0m\u001b[0m\n\u001b[0;32m----> 2\u001b[0;31m \u001b[0msum\u001b[0m\u001b[0;34m(\u001b[0m\u001b[0mmissing1\u001b[0m\u001b[0;34m)\u001b[0m\u001b[0;34m\u001b[0m\u001b[0;34m\u001b[0m\u001b[0m\n\u001b[0m\u001b[1;32m      3\u001b[0m \u001b[0mnp\u001b[0m\u001b[0;34m.\u001b[0m\u001b[0mnansum\u001b[0m\u001b[0;34m(\u001b[0m\u001b[0mmissing1\u001b[0m\u001b[0;34m)\u001b[0m\u001b[0;34m\u001b[0m\u001b[0;34m\u001b[0m\u001b[0m\n",
            "\u001b[0;31mTypeError\u001b[0m: unsupported operand type(s) for +: 'int' and 'NoneType'"
          ]
        }
      ]
    },
    {
      "cell_type": "code",
      "metadata": {
        "id": "YQq2Jhty5dpC",
        "colab_type": "code",
        "outputId": "294b216d-5aae-4fea-dbf6-7c789b89f013",
        "colab": {
          "base_uri": "https://localhost:8080/",
          "height": 34
        }
      },
      "source": [
        "#NumPy introduces a floating type missing value NaN, which is NA in R.\n",
        "#Operating on NaN will always result in a NaN and does not throw an error like the native None version above.\n",
        "#Importantly, NaN is only for floating point values, so there is no such thing as NaN for integers, strings or other types!!\n",
        "missing2 = np.array([1, np.nan, 3, 4])\n",
        "sum(missing2)"
      ],
      "execution_count": 0,
      "outputs": [
        {
          "output_type": "execute_result",
          "data": {
            "text/plain": [
              "nan"
            ]
          },
          "metadata": {
            "tags": []
          },
          "execution_count": 112
        }
      ]
    },
    {
      "cell_type": "code",
      "metadata": {
        "id": "mjetOoOY52H2",
        "colab_type": "code",
        "outputId": "d2626623-01dd-4bb1-e75a-453a1c13e7f2",
        "colab": {
          "base_uri": "https://localhost:8080/",
          "height": 34
        }
      },
      "source": [
        "#Handling NaN presence in arithmetic\n",
        "np.nansum(missing2)"
      ],
      "execution_count": 0,
      "outputs": [
        {
          "output_type": "execute_result",
          "data": {
            "text/plain": [
              "8.0"
            ]
          },
          "metadata": {
            "tags": []
          },
          "execution_count": 115
        }
      ]
    },
    {
      "cell_type": "code",
      "metadata": {
        "id": "bDhYyKis4Ohf",
        "colab_type": "code",
        "outputId": "4bbf7ea0-88e7-4ad4-a6e9-7fb796ee0e09",
        "colab": {
          "base_uri": "https://localhost:8080/",
          "height": 102
        }
      },
      "source": [
        "#Pandas is equipped to handle both `None` and `NaN`\n",
        "#There are plans to add a native NA to Pandas.\n",
        "pd.Series([1, np.nan, 2, None])"
      ],
      "execution_count": 0,
      "outputs": [
        {
          "output_type": "execute_result",
          "data": {
            "text/plain": [
              "0    1.0\n",
              "1    NaN\n",
              "2    2.0\n",
              "3    NaN\n",
              "dtype: float64"
            ]
          },
          "metadata": {
            "tags": []
          },
          "execution_count": 117
        }
      ]
    },
    {
      "cell_type": "code",
      "metadata": {
        "id": "8ovB99Yw6fnR",
        "colab_type": "code",
        "outputId": "c60f476f-31fa-4c54-ebef-6638f2343e37",
        "colab": {
          "base_uri": "https://localhost:8080/",
          "height": 68
        }
      },
      "source": [
        "pd.Series(['a',np.nan])"
      ],
      "execution_count": 0,
      "outputs": [
        {
          "output_type": "execute_result",
          "data": {
            "text/plain": [
              "0      a\n",
              "1    NaN\n",
              "dtype: object"
            ]
          },
          "metadata": {
            "tags": []
          },
          "execution_count": 121
        }
      ]
    },
    {
      "cell_type": "markdown",
      "metadata": {
        "id": "GDh4LZ-366lu",
        "colab_type": "text"
      },
      "source": [
        "### Operating on null values\n",
        "This is the equivalent is detecting or filtering for null values in R - ie. is.na(), na.omit(), replace_na()"
      ]
    },
    {
      "cell_type": "code",
      "metadata": {
        "id": "ovYMpIQ-7D0j",
        "colab_type": "code",
        "outputId": "c508e47e-e6d8-49fd-b2d0-631e49ba6d0f",
        "colab": {
          "base_uri": "https://localhost:8080/",
          "height": 142
        }
      },
      "source": [
        "missing3 = pd.DataFrame({\"Names\":[\"A\",\"B\",\"C\"], \"Scores\":[1,np.nan,3]})\n",
        "missing3"
      ],
      "execution_count": 0,
      "outputs": [
        {
          "output_type": "execute_result",
          "data": {
            "text/html": [
              "<div>\n",
              "<style scoped>\n",
              "    .dataframe tbody tr th:only-of-type {\n",
              "        vertical-align: middle;\n",
              "    }\n",
              "\n",
              "    .dataframe tbody tr th {\n",
              "        vertical-align: top;\n",
              "    }\n",
              "\n",
              "    .dataframe thead th {\n",
              "        text-align: right;\n",
              "    }\n",
              "</style>\n",
              "<table border=\"1\" class=\"dataframe\">\n",
              "  <thead>\n",
              "    <tr style=\"text-align: right;\">\n",
              "      <th></th>\n",
              "      <th>Names</th>\n",
              "      <th>Scores</th>\n",
              "    </tr>\n",
              "  </thead>\n",
              "  <tbody>\n",
              "    <tr>\n",
              "      <th>0</th>\n",
              "      <td>A</td>\n",
              "      <td>1.0</td>\n",
              "    </tr>\n",
              "    <tr>\n",
              "      <th>1</th>\n",
              "      <td>B</td>\n",
              "      <td>NaN</td>\n",
              "    </tr>\n",
              "    <tr>\n",
              "      <th>2</th>\n",
              "      <td>C</td>\n",
              "      <td>3.0</td>\n",
              "    </tr>\n",
              "  </tbody>\n",
              "</table>\n",
              "</div>"
            ],
            "text/plain": [
              "  Names  Scores\n",
              "0     A     1.0\n",
              "1     B     NaN\n",
              "2     C     3.0"
            ]
          },
          "metadata": {
            "tags": []
          },
          "execution_count": 143
        }
      ]
    },
    {
      "cell_type": "code",
      "metadata": {
        "id": "6CM7UHSR7OjL",
        "colab_type": "code",
        "outputId": "3fc912ea-cf70-441d-de77-f1f11198fab4",
        "colab": {
          "base_uri": "https://localhost:8080/",
          "height": 80
        }
      },
      "source": [
        "#Which person has a missing Score?\n",
        "#Here we use the masking method, where the boolean results act as fancy indexing\n",
        "missing3[missing3.Scores.isnull()]"
      ],
      "execution_count": 0,
      "outputs": [
        {
          "output_type": "execute_result",
          "data": {
            "text/html": [
              "<div>\n",
              "<style scoped>\n",
              "    .dataframe tbody tr th:only-of-type {\n",
              "        vertical-align: middle;\n",
              "    }\n",
              "\n",
              "    .dataframe tbody tr th {\n",
              "        vertical-align: top;\n",
              "    }\n",
              "\n",
              "    .dataframe thead th {\n",
              "        text-align: right;\n",
              "    }\n",
              "</style>\n",
              "<table border=\"1\" class=\"dataframe\">\n",
              "  <thead>\n",
              "    <tr style=\"text-align: right;\">\n",
              "      <th></th>\n",
              "      <th>Names</th>\n",
              "      <th>Scores</th>\n",
              "    </tr>\n",
              "  </thead>\n",
              "  <tbody>\n",
              "    <tr>\n",
              "      <th>1</th>\n",
              "      <td>B</td>\n",
              "      <td>NaN</td>\n",
              "    </tr>\n",
              "  </tbody>\n",
              "</table>\n",
              "</div>"
            ],
            "text/plain": [
              "  Names  Scores\n",
              "1     B     NaN"
            ]
          },
          "metadata": {
            "tags": []
          },
          "execution_count": 144
        }
      ]
    },
    {
      "cell_type": "code",
      "metadata": {
        "id": "DGB_EQde7WAt",
        "colab_type": "code",
        "outputId": "ba041719-efb5-4523-f74c-f88f21323e61",
        "colab": {
          "base_uri": "https://localhost:8080/",
          "height": 111
        }
      },
      "source": [
        "#Dropping missing values\n",
        "missing3.dropna()"
      ],
      "execution_count": 0,
      "outputs": [
        {
          "output_type": "execute_result",
          "data": {
            "text/html": [
              "<div>\n",
              "<style scoped>\n",
              "    .dataframe tbody tr th:only-of-type {\n",
              "        vertical-align: middle;\n",
              "    }\n",
              "\n",
              "    .dataframe tbody tr th {\n",
              "        vertical-align: top;\n",
              "    }\n",
              "\n",
              "    .dataframe thead th {\n",
              "        text-align: right;\n",
              "    }\n",
              "</style>\n",
              "<table border=\"1\" class=\"dataframe\">\n",
              "  <thead>\n",
              "    <tr style=\"text-align: right;\">\n",
              "      <th></th>\n",
              "      <th>Names</th>\n",
              "      <th>Scores</th>\n",
              "    </tr>\n",
              "  </thead>\n",
              "  <tbody>\n",
              "    <tr>\n",
              "      <th>0</th>\n",
              "      <td>A</td>\n",
              "      <td>1.0</td>\n",
              "    </tr>\n",
              "    <tr>\n",
              "      <th>2</th>\n",
              "      <td>C</td>\n",
              "      <td>3.0</td>\n",
              "    </tr>\n",
              "  </tbody>\n",
              "</table>\n",
              "</div>"
            ],
            "text/plain": [
              "  Names  Scores\n",
              "0     A     1.0\n",
              "2     C     3.0"
            ]
          },
          "metadata": {
            "tags": []
          },
          "execution_count": 145
        }
      ]
    },
    {
      "cell_type": "code",
      "metadata": {
        "id": "MaGYhC0V8auV",
        "colab_type": "code",
        "outputId": "296ea683-451a-4cc3-b4c6-bbc34da341ea",
        "colab": {
          "base_uri": "https://localhost:8080/",
          "height": 142
        }
      },
      "source": [
        "#Drop column instead of row, containing missing value\n",
        "missing3.dropna(axis = 1)"
      ],
      "execution_count": 0,
      "outputs": [
        {
          "output_type": "execute_result",
          "data": {
            "text/html": [
              "<div>\n",
              "<style scoped>\n",
              "    .dataframe tbody tr th:only-of-type {\n",
              "        vertical-align: middle;\n",
              "    }\n",
              "\n",
              "    .dataframe tbody tr th {\n",
              "        vertical-align: top;\n",
              "    }\n",
              "\n",
              "    .dataframe thead th {\n",
              "        text-align: right;\n",
              "    }\n",
              "</style>\n",
              "<table border=\"1\" class=\"dataframe\">\n",
              "  <thead>\n",
              "    <tr style=\"text-align: right;\">\n",
              "      <th></th>\n",
              "      <th>Names</th>\n",
              "    </tr>\n",
              "  </thead>\n",
              "  <tbody>\n",
              "    <tr>\n",
              "      <th>0</th>\n",
              "      <td>A</td>\n",
              "    </tr>\n",
              "    <tr>\n",
              "      <th>1</th>\n",
              "      <td>B</td>\n",
              "    </tr>\n",
              "    <tr>\n",
              "      <th>2</th>\n",
              "      <td>C</td>\n",
              "    </tr>\n",
              "  </tbody>\n",
              "</table>\n",
              "</div>"
            ],
            "text/plain": [
              "  Names\n",
              "0     A\n",
              "1     B\n",
              "2     C"
            ]
          },
          "metadata": {
            "tags": []
          },
          "execution_count": 146
        }
      ]
    },
    {
      "cell_type": "code",
      "metadata": {
        "id": "XUw0RuDi8Uza",
        "colab_type": "code",
        "outputId": "6b4fd8c5-add4-432e-9fd4-e7cec08ac090",
        "colab": {
          "base_uri": "https://localhost:8080/",
          "height": 142
        }
      },
      "source": [
        "#dropna method has some additional arguments to trigger when to drop rows\n",
        "#The threshold is the minimum number of NON-NULL values you need, before the row/column is dropped.\n",
        "missing3.dropna(thresh = 1)"
      ],
      "execution_count": 0,
      "outputs": [
        {
          "output_type": "execute_result",
          "data": {
            "text/html": [
              "<div>\n",
              "<style scoped>\n",
              "    .dataframe tbody tr th:only-of-type {\n",
              "        vertical-align: middle;\n",
              "    }\n",
              "\n",
              "    .dataframe tbody tr th {\n",
              "        vertical-align: top;\n",
              "    }\n",
              "\n",
              "    .dataframe thead th {\n",
              "        text-align: right;\n",
              "    }\n",
              "</style>\n",
              "<table border=\"1\" class=\"dataframe\">\n",
              "  <thead>\n",
              "    <tr style=\"text-align: right;\">\n",
              "      <th></th>\n",
              "      <th>Names</th>\n",
              "      <th>Scores</th>\n",
              "    </tr>\n",
              "  </thead>\n",
              "  <tbody>\n",
              "    <tr>\n",
              "      <th>0</th>\n",
              "      <td>A</td>\n",
              "      <td>1.0</td>\n",
              "    </tr>\n",
              "    <tr>\n",
              "      <th>1</th>\n",
              "      <td>B</td>\n",
              "      <td>NaN</td>\n",
              "    </tr>\n",
              "    <tr>\n",
              "      <th>2</th>\n",
              "      <td>C</td>\n",
              "      <td>3.0</td>\n",
              "    </tr>\n",
              "  </tbody>\n",
              "</table>\n",
              "</div>"
            ],
            "text/plain": [
              "  Names  Scores\n",
              "0     A     1.0\n",
              "1     B     NaN\n",
              "2     C     3.0"
            ]
          },
          "metadata": {
            "tags": []
          },
          "execution_count": 147
        }
      ]
    },
    {
      "cell_type": "code",
      "metadata": {
        "id": "CnxlEqrc8D4k",
        "colab_type": "code",
        "outputId": "3d5c25e4-403d-45db-e565-7bc9839a28fa",
        "colab": {
          "base_uri": "https://localhost:8080/",
          "height": 142
        }
      },
      "source": [
        "#Fill missing values with single value\n",
        "missing3.fillna(3)"
      ],
      "execution_count": 0,
      "outputs": [
        {
          "output_type": "execute_result",
          "data": {
            "text/html": [
              "<div>\n",
              "<style scoped>\n",
              "    .dataframe tbody tr th:only-of-type {\n",
              "        vertical-align: middle;\n",
              "    }\n",
              "\n",
              "    .dataframe tbody tr th {\n",
              "        vertical-align: top;\n",
              "    }\n",
              "\n",
              "    .dataframe thead th {\n",
              "        text-align: right;\n",
              "    }\n",
              "</style>\n",
              "<table border=\"1\" class=\"dataframe\">\n",
              "  <thead>\n",
              "    <tr style=\"text-align: right;\">\n",
              "      <th></th>\n",
              "      <th>Names</th>\n",
              "      <th>Scores</th>\n",
              "    </tr>\n",
              "  </thead>\n",
              "  <tbody>\n",
              "    <tr>\n",
              "      <th>0</th>\n",
              "      <td>A</td>\n",
              "      <td>1.0</td>\n",
              "    </tr>\n",
              "    <tr>\n",
              "      <th>1</th>\n",
              "      <td>B</td>\n",
              "      <td>3.0</td>\n",
              "    </tr>\n",
              "    <tr>\n",
              "      <th>2</th>\n",
              "      <td>C</td>\n",
              "      <td>3.0</td>\n",
              "    </tr>\n",
              "  </tbody>\n",
              "</table>\n",
              "</div>"
            ],
            "text/plain": [
              "  Names  Scores\n",
              "0     A     1.0\n",
              "1     B     3.0\n",
              "2     C     3.0"
            ]
          },
          "metadata": {
            "tags": []
          },
          "execution_count": 148
        }
      ]
    },
    {
      "cell_type": "code",
      "metadata": {
        "id": "WAhKiZsf84hp",
        "colab_type": "code",
        "outputId": "51881946-ed87-4eda-bfdf-804673c8a682",
        "colab": {
          "base_uri": "https://localhost:8080/",
          "height": 142
        }
      },
      "source": [
        "#Fill forward\n",
        "missing3.fillna(method = \"ffill\")"
      ],
      "execution_count": 0,
      "outputs": [
        {
          "output_type": "execute_result",
          "data": {
            "text/html": [
              "<div>\n",
              "<style scoped>\n",
              "    .dataframe tbody tr th:only-of-type {\n",
              "        vertical-align: middle;\n",
              "    }\n",
              "\n",
              "    .dataframe tbody tr th {\n",
              "        vertical-align: top;\n",
              "    }\n",
              "\n",
              "    .dataframe thead th {\n",
              "        text-align: right;\n",
              "    }\n",
              "</style>\n",
              "<table border=\"1\" class=\"dataframe\">\n",
              "  <thead>\n",
              "    <tr style=\"text-align: right;\">\n",
              "      <th></th>\n",
              "      <th>Names</th>\n",
              "      <th>Scores</th>\n",
              "    </tr>\n",
              "  </thead>\n",
              "  <tbody>\n",
              "    <tr>\n",
              "      <th>0</th>\n",
              "      <td>A</td>\n",
              "      <td>1.0</td>\n",
              "    </tr>\n",
              "    <tr>\n",
              "      <th>1</th>\n",
              "      <td>B</td>\n",
              "      <td>1.0</td>\n",
              "    </tr>\n",
              "    <tr>\n",
              "      <th>2</th>\n",
              "      <td>C</td>\n",
              "      <td>3.0</td>\n",
              "    </tr>\n",
              "  </tbody>\n",
              "</table>\n",
              "</div>"
            ],
            "text/plain": [
              "  Names  Scores\n",
              "0     A     1.0\n",
              "1     B     1.0\n",
              "2     C     3.0"
            ]
          },
          "metadata": {
            "tags": []
          },
          "execution_count": 149
        }
      ]
    },
    {
      "cell_type": "code",
      "metadata": {
        "id": "kNlZCEqV9E89",
        "colab_type": "code",
        "outputId": "4b70c1d7-e0e9-4145-e392-8e774afb2136",
        "colab": {
          "base_uri": "https://localhost:8080/",
          "height": 142
        }
      },
      "source": [
        "#Backward fill\n",
        "missing3.fillna(method = \"bfill\")"
      ],
      "execution_count": 0,
      "outputs": [
        {
          "output_type": "execute_result",
          "data": {
            "text/html": [
              "<div>\n",
              "<style scoped>\n",
              "    .dataframe tbody tr th:only-of-type {\n",
              "        vertical-align: middle;\n",
              "    }\n",
              "\n",
              "    .dataframe tbody tr th {\n",
              "        vertical-align: top;\n",
              "    }\n",
              "\n",
              "    .dataframe thead th {\n",
              "        text-align: right;\n",
              "    }\n",
              "</style>\n",
              "<table border=\"1\" class=\"dataframe\">\n",
              "  <thead>\n",
              "    <tr style=\"text-align: right;\">\n",
              "      <th></th>\n",
              "      <th>Names</th>\n",
              "      <th>Scores</th>\n",
              "    </tr>\n",
              "  </thead>\n",
              "  <tbody>\n",
              "    <tr>\n",
              "      <th>0</th>\n",
              "      <td>A</td>\n",
              "      <td>1.0</td>\n",
              "    </tr>\n",
              "    <tr>\n",
              "      <th>1</th>\n",
              "      <td>B</td>\n",
              "      <td>3.0</td>\n",
              "    </tr>\n",
              "    <tr>\n",
              "      <th>2</th>\n",
              "      <td>C</td>\n",
              "      <td>3.0</td>\n",
              "    </tr>\n",
              "  </tbody>\n",
              "</table>\n",
              "</div>"
            ],
            "text/plain": [
              "  Names  Scores\n",
              "0     A     1.0\n",
              "1     B     3.0\n",
              "2     C     3.0"
            ]
          },
          "metadata": {
            "tags": []
          },
          "execution_count": 150
        }
      ]
    },
    {
      "cell_type": "markdown",
      "metadata": {
        "id": "PwRZJ1_hARtv",
        "colab_type": "text"
      },
      "source": [
        "### Concatenation (or binding) of Pandas objects"
      ]
    },
    {
      "cell_type": "code",
      "metadata": {
        "id": "YyH7v9KQAVKk",
        "colab_type": "code",
        "outputId": "ed43d01e-53f0-4a7b-aaed-87b70bea8dde",
        "colab": {
          "base_uri": "https://localhost:8080/",
          "height": 34
        }
      },
      "source": [
        "join1 = pd.Series([1,2,3])\n",
        "join2 = pd.Series([4,5,6])\n",
        "print(np.concatenate([join1, join2]))"
      ],
      "execution_count": 0,
      "outputs": [
        {
          "output_type": "stream",
          "text": [
            "[1 2 3 4 5 6]\n"
          ],
          "name": "stdout"
        }
      ]
    },
    {
      "cell_type": "code",
      "metadata": {
        "id": "AG_cYPtIAeT-",
        "colab_type": "code",
        "outputId": "6cb19e79-c3cb-4897-d473-8a32b6a02da4",
        "colab": {
          "base_uri": "https://localhost:8080/",
          "height": 173
        }
      },
      "source": [
        "#pd.concat, the equivalent of rbind() or bind_rows() in R\n",
        "join3 = pd.DataFrame({\"colA\":[1,2], \"colB\":[3,4]})\n",
        "join4 = pd.DataFrame({\"colA\":[5,6], \"colB\":[7,8]})\n",
        "pd.concat([join3, join4])"
      ],
      "execution_count": 0,
      "outputs": [
        {
          "output_type": "execute_result",
          "data": {
            "text/html": [
              "<div>\n",
              "<style scoped>\n",
              "    .dataframe tbody tr th:only-of-type {\n",
              "        vertical-align: middle;\n",
              "    }\n",
              "\n",
              "    .dataframe tbody tr th {\n",
              "        vertical-align: top;\n",
              "    }\n",
              "\n",
              "    .dataframe thead th {\n",
              "        text-align: right;\n",
              "    }\n",
              "</style>\n",
              "<table border=\"1\" class=\"dataframe\">\n",
              "  <thead>\n",
              "    <tr style=\"text-align: right;\">\n",
              "      <th></th>\n",
              "      <th>colA</th>\n",
              "      <th>colB</th>\n",
              "    </tr>\n",
              "  </thead>\n",
              "  <tbody>\n",
              "    <tr>\n",
              "      <th>0</th>\n",
              "      <td>1</td>\n",
              "      <td>3</td>\n",
              "    </tr>\n",
              "    <tr>\n",
              "      <th>1</th>\n",
              "      <td>2</td>\n",
              "      <td>4</td>\n",
              "    </tr>\n",
              "    <tr>\n",
              "      <th>0</th>\n",
              "      <td>5</td>\n",
              "      <td>7</td>\n",
              "    </tr>\n",
              "    <tr>\n",
              "      <th>1</th>\n",
              "      <td>6</td>\n",
              "      <td>8</td>\n",
              "    </tr>\n",
              "  </tbody>\n",
              "</table>\n",
              "</div>"
            ],
            "text/plain": [
              "   colA  colB\n",
              "0     1     3\n",
              "1     2     4\n",
              "0     5     7\n",
              "1     6     8"
            ]
          },
          "metadata": {
            "tags": []
          },
          "execution_count": 157
        }
      ]
    },
    {
      "cell_type": "code",
      "metadata": {
        "id": "5d7LZ1flBFsn",
        "colab_type": "code",
        "outputId": "7e0459ef-555e-4fed-a3df-3df79594bd95",
        "colab": {
          "base_uri": "https://localhost:8080/",
          "height": 111
        }
      },
      "source": [
        "#pd.concat(axis = \"col\"), the equivalent of cbind() or bind_cols() in R\n",
        "join5 = pd.DataFrame({\"colA\":[1,2], \"colB\":[3,4]})\n",
        "join6 = pd.DataFrame({\"colC\":[5,6], \"colD\":[7,8]})\n",
        "pd.concat([join5, join6], axis = 1)"
      ],
      "execution_count": 0,
      "outputs": [
        {
          "output_type": "execute_result",
          "data": {
            "text/html": [
              "<div>\n",
              "<style scoped>\n",
              "    .dataframe tbody tr th:only-of-type {\n",
              "        vertical-align: middle;\n",
              "    }\n",
              "\n",
              "    .dataframe tbody tr th {\n",
              "        vertical-align: top;\n",
              "    }\n",
              "\n",
              "    .dataframe thead th {\n",
              "        text-align: right;\n",
              "    }\n",
              "</style>\n",
              "<table border=\"1\" class=\"dataframe\">\n",
              "  <thead>\n",
              "    <tr style=\"text-align: right;\">\n",
              "      <th></th>\n",
              "      <th>colA</th>\n",
              "      <th>colB</th>\n",
              "      <th>colC</th>\n",
              "      <th>colD</th>\n",
              "    </tr>\n",
              "  </thead>\n",
              "  <tbody>\n",
              "    <tr>\n",
              "      <th>0</th>\n",
              "      <td>1</td>\n",
              "      <td>3</td>\n",
              "      <td>5</td>\n",
              "      <td>7</td>\n",
              "    </tr>\n",
              "    <tr>\n",
              "      <th>1</th>\n",
              "      <td>2</td>\n",
              "      <td>4</td>\n",
              "      <td>6</td>\n",
              "      <td>8</td>\n",
              "    </tr>\n",
              "  </tbody>\n",
              "</table>\n",
              "</div>"
            ],
            "text/plain": [
              "   colA  colB  colC  colD\n",
              "0     1     3     5     7\n",
              "1     2     4     6     8"
            ]
          },
          "metadata": {
            "tags": []
          },
          "execution_count": 160
        }
      ]
    },
    {
      "cell_type": "markdown",
      "metadata": {
        "id": "OtVzwI9_A_x1",
        "colab_type": "text"
      },
      "source": [
        "### Merge and Join datasets"
      ]
    },
    {
      "cell_type": "code",
      "metadata": {
        "id": "3EShzxaxBwLu",
        "colab_type": "code",
        "outputId": "1f7ec8a8-bae1-43e8-d05a-5f6406df6d14",
        "colab": {
          "base_uri": "https://localhost:8080/",
          "height": 187
        }
      },
      "source": [
        "df1 = pd.DataFrame({'employee': ['Bob', 'Jake', 'Lisa', 'Sue'],\n",
        "                    'group': ['Accounting', 'Engineering', 'Engineering', 'HR']})\n",
        "df2 = pd.DataFrame({'employee': ['Lisa', 'Bob', 'Jake', 'Sue'],\n",
        "                    'hire_date': [2004, 2008, 2012, 2014]})\n",
        "print(df1)\n",
        "print(df2)"
      ],
      "execution_count": 0,
      "outputs": [
        {
          "output_type": "stream",
          "text": [
            "  employee        group\n",
            "0      Bob   Accounting\n",
            "1     Jake  Engineering\n",
            "2     Lisa  Engineering\n",
            "3      Sue           HR\n",
            "  employee  hire_date\n",
            "0     Lisa       2004\n",
            "1      Bob       2008\n",
            "2     Jake       2012\n",
            "3      Sue       2014\n"
          ],
          "name": "stdout"
        }
      ]
    },
    {
      "cell_type": "code",
      "metadata": {
        "id": "IvgbTbfxB1YB",
        "colab_type": "code",
        "outputId": "5d3e308f-b521-42c6-8a8a-dde8b16ffb5e",
        "colab": {
          "base_uri": "https://localhost:8080/",
          "height": 173
        }
      },
      "source": [
        "#Pandas has a very simple merge function to join tables\n",
        "pd.merge(df1, df2)"
      ],
      "execution_count": 0,
      "outputs": [
        {
          "output_type": "execute_result",
          "data": {
            "text/html": [
              "<div>\n",
              "<style scoped>\n",
              "    .dataframe tbody tr th:only-of-type {\n",
              "        vertical-align: middle;\n",
              "    }\n",
              "\n",
              "    .dataframe tbody tr th {\n",
              "        vertical-align: top;\n",
              "    }\n",
              "\n",
              "    .dataframe thead th {\n",
              "        text-align: right;\n",
              "    }\n",
              "</style>\n",
              "<table border=\"1\" class=\"dataframe\">\n",
              "  <thead>\n",
              "    <tr style=\"text-align: right;\">\n",
              "      <th></th>\n",
              "      <th>employee</th>\n",
              "      <th>group</th>\n",
              "      <th>hire_date</th>\n",
              "    </tr>\n",
              "  </thead>\n",
              "  <tbody>\n",
              "    <tr>\n",
              "      <th>0</th>\n",
              "      <td>Bob</td>\n",
              "      <td>Accounting</td>\n",
              "      <td>2008</td>\n",
              "    </tr>\n",
              "    <tr>\n",
              "      <th>1</th>\n",
              "      <td>Jake</td>\n",
              "      <td>Engineering</td>\n",
              "      <td>2012</td>\n",
              "    </tr>\n",
              "    <tr>\n",
              "      <th>2</th>\n",
              "      <td>Lisa</td>\n",
              "      <td>Engineering</td>\n",
              "      <td>2004</td>\n",
              "    </tr>\n",
              "    <tr>\n",
              "      <th>3</th>\n",
              "      <td>Sue</td>\n",
              "      <td>HR</td>\n",
              "      <td>2014</td>\n",
              "    </tr>\n",
              "  </tbody>\n",
              "</table>\n",
              "</div>"
            ],
            "text/plain": [
              "  employee        group  hire_date\n",
              "0      Bob   Accounting       2008\n",
              "1     Jake  Engineering       2012\n",
              "2     Lisa  Engineering       2004\n",
              "3      Sue           HR       2014"
            ]
          },
          "metadata": {
            "tags": []
          },
          "execution_count": 162
        }
      ]
    },
    {
      "cell_type": "code",
      "metadata": {
        "id": "Qx2W7aW7CI_6",
        "colab_type": "code",
        "outputId": "3021eeb5-edd1-420f-d489-35a740c6128f",
        "colab": {
          "base_uri": "https://localhost:8080/",
          "height": 187
        }
      },
      "source": [
        "#What if the joining key has a different column name across both tables? For eg:\n",
        "#While it works, its not as elegant as in R with the `by = c('left' = 'right')` specification\n",
        "#You'll find a redundant column `emp` left in the table\n",
        "df3 = pd.DataFrame({'emp': ['Lisa', 'Bob', 'Jake', 'Sue'],\n",
        "                    'hire_date': [2004, 2008, 2012, 2014]})\n",
        "print(pd.merge(df1, df3, left_on=\"employee\", right_on=\"emp\"))\n",
        "#Adding one more function `drop()` to drop the redundant column. So much typing!\n",
        "print(pd.merge(df1, df3, left_on=\"employee\", right_on=\"emp\").drop(\"emp\", axis = 1))"
      ],
      "execution_count": 0,
      "outputs": [
        {
          "output_type": "stream",
          "text": [
            "  employee        group   emp  hire_date\n",
            "0      Bob   Accounting   Bob       2008\n",
            "1     Jake  Engineering  Jake       2012\n",
            "2     Lisa  Engineering  Lisa       2004\n",
            "3      Sue           HR   Sue       2014\n",
            "  employee        group  hire_date\n",
            "0      Bob   Accounting       2008\n",
            "1     Jake  Engineering       2012\n",
            "2     Lisa  Engineering       2004\n",
            "3      Sue           HR       2014\n"
          ],
          "name": "stdout"
        }
      ]
    },
    {
      "cell_type": "code",
      "metadata": {
        "id": "HMvTFSKUCWDS",
        "colab_type": "code",
        "outputId": "0d33d826-17ba-4d8f-b500-1ed293942fe4",
        "colab": {
          "base_uri": "https://localhost:8080/",
          "height": 340
        }
      },
      "source": [
        "#Inner, left, right joins\n",
        "#Equivalent in R: inner_join, left_join, right_join\n",
        "df4 = pd.DataFrame({'name': ['Peter', 'Paul', 'Mary'],\n",
        "                    'food': ['fish', 'beans', 'bread']},\n",
        "                   columns=['name', 'food'])\n",
        "df5 = pd.DataFrame({'name': ['Mary', 'Joseph'],\n",
        "                    'drink': ['wine', 'beer']},\n",
        "                   columns=['name', 'drink'])\n",
        "print(df4)\n",
        "print(df5)\n",
        "print(\"Inner join\")\n",
        "print(pd.merge(df4, df5, how = \"inner\"))\n",
        "print(\"Left join\")\n",
        "print(pd.merge(df4, df5, how = \"left\"))\n",
        "print(\"Right join\")\n",
        "print(pd.merge(df4, df5, how = \"right\"))"
      ],
      "execution_count": 0,
      "outputs": [
        {
          "output_type": "stream",
          "text": [
            "    name   food\n",
            "0  Peter   fish\n",
            "1   Paul  beans\n",
            "2   Mary  bread\n",
            "     name drink\n",
            "0    Mary  wine\n",
            "1  Joseph  beer\n",
            "Inner join\n",
            "   name   food drink\n",
            "0  Mary  bread  wine\n",
            "Left join\n",
            "    name   food drink\n",
            "0  Peter   fish   NaN\n",
            "1   Paul  beans   NaN\n",
            "2   Mary  bread  wine\n",
            "Right join\n",
            "     name   food drink\n",
            "0    Mary  bread  wine\n",
            "1  Joseph    NaN  beer\n"
          ],
          "name": "stdout"
        }
      ]
    },
    {
      "cell_type": "markdown",
      "metadata": {
        "id": "Vupa-Z1pDQMA",
        "colab_type": "text"
      },
      "source": [
        "### Grouping and aggregation"
      ]
    },
    {
      "cell_type": "code",
      "metadata": {
        "id": "LzBbLc3PHQlQ",
        "colab_type": "code",
        "outputId": "258c7af6-2aea-4fa7-f7a6-2e5dec252a44",
        "colab": {
          "base_uri": "https://localhost:8080/",
          "height": 204
        }
      },
      "source": [
        "import seaborn as sns\n",
        "planets = sns.load_dataset('planets')\n",
        "planets.head()"
      ],
      "execution_count": 0,
      "outputs": [
        {
          "output_type": "execute_result",
          "data": {
            "text/html": [
              "<div>\n",
              "<style scoped>\n",
              "    .dataframe tbody tr th:only-of-type {\n",
              "        vertical-align: middle;\n",
              "    }\n",
              "\n",
              "    .dataframe tbody tr th {\n",
              "        vertical-align: top;\n",
              "    }\n",
              "\n",
              "    .dataframe thead th {\n",
              "        text-align: right;\n",
              "    }\n",
              "</style>\n",
              "<table border=\"1\" class=\"dataframe\">\n",
              "  <thead>\n",
              "    <tr style=\"text-align: right;\">\n",
              "      <th></th>\n",
              "      <th>method</th>\n",
              "      <th>number</th>\n",
              "      <th>orbital_period</th>\n",
              "      <th>mass</th>\n",
              "      <th>distance</th>\n",
              "      <th>year</th>\n",
              "    </tr>\n",
              "  </thead>\n",
              "  <tbody>\n",
              "    <tr>\n",
              "      <th>0</th>\n",
              "      <td>Radial Velocity</td>\n",
              "      <td>1</td>\n",
              "      <td>269.300</td>\n",
              "      <td>7.10</td>\n",
              "      <td>77.40</td>\n",
              "      <td>2006</td>\n",
              "    </tr>\n",
              "    <tr>\n",
              "      <th>1</th>\n",
              "      <td>Radial Velocity</td>\n",
              "      <td>1</td>\n",
              "      <td>874.774</td>\n",
              "      <td>2.21</td>\n",
              "      <td>56.95</td>\n",
              "      <td>2008</td>\n",
              "    </tr>\n",
              "    <tr>\n",
              "      <th>2</th>\n",
              "      <td>Radial Velocity</td>\n",
              "      <td>1</td>\n",
              "      <td>763.000</td>\n",
              "      <td>2.60</td>\n",
              "      <td>19.84</td>\n",
              "      <td>2011</td>\n",
              "    </tr>\n",
              "    <tr>\n",
              "      <th>3</th>\n",
              "      <td>Radial Velocity</td>\n",
              "      <td>1</td>\n",
              "      <td>326.030</td>\n",
              "      <td>19.40</td>\n",
              "      <td>110.62</td>\n",
              "      <td>2007</td>\n",
              "    </tr>\n",
              "    <tr>\n",
              "      <th>4</th>\n",
              "      <td>Radial Velocity</td>\n",
              "      <td>1</td>\n",
              "      <td>516.220</td>\n",
              "      <td>10.50</td>\n",
              "      <td>119.47</td>\n",
              "      <td>2009</td>\n",
              "    </tr>\n",
              "  </tbody>\n",
              "</table>\n",
              "</div>"
            ],
            "text/plain": [
              "            method  number  orbital_period   mass  distance  year\n",
              "0  Radial Velocity       1         269.300   7.10     77.40  2006\n",
              "1  Radial Velocity       1         874.774   2.21     56.95  2008\n",
              "2  Radial Velocity       1         763.000   2.60     19.84  2011\n",
              "3  Radial Velocity       1         326.030  19.40    110.62  2007\n",
              "4  Radial Velocity       1         516.220  10.50    119.47  2009"
            ]
          },
          "metadata": {
            "tags": []
          },
          "execution_count": 3
        }
      ]
    },
    {
      "cell_type": "code",
      "metadata": {
        "id": "G5RGlTIiHW6v",
        "colab_type": "code",
        "outputId": "5c7a68f6-0a5d-402d-da41-d5bb716872b6",
        "colab": {
          "base_uri": "https://localhost:8080/",
          "height": 215
        }
      },
      "source": [
        "planets.method.drop_duplicates()"
      ],
      "execution_count": 0,
      "outputs": [
        {
          "output_type": "execute_result",
          "data": {
            "text/plain": [
              "0                    Radial Velocity\n",
              "29                           Imaging\n",
              "32         Eclipse Timing Variations\n",
              "91                           Transit\n",
              "113                       Astrometry\n",
              "680        Transit Timing Variations\n",
              "787    Orbital Brightness Modulation\n",
              "902                     Microlensing\n",
              "941                    Pulsar Timing\n",
              "958      Pulsation Timing Variations\n",
              "Name: method, dtype: object"
            ]
          },
          "metadata": {
            "tags": []
          },
          "execution_count": 4
        }
      ]
    },
    {
      "cell_type": "code",
      "metadata": {
        "id": "VCJ4UJ6mIBjL",
        "colab_type": "code",
        "outputId": "b4c619d2-c660-418a-98f5-9d606a302a1f",
        "colab": {
          "base_uri": "https://localhost:8080/",
          "height": 297
        }
      },
      "source": [
        "planets.dropna().describe()"
      ],
      "execution_count": 0,
      "outputs": [
        {
          "output_type": "execute_result",
          "data": {
            "text/html": [
              "<div>\n",
              "<style scoped>\n",
              "    .dataframe tbody tr th:only-of-type {\n",
              "        vertical-align: middle;\n",
              "    }\n",
              "\n",
              "    .dataframe tbody tr th {\n",
              "        vertical-align: top;\n",
              "    }\n",
              "\n",
              "    .dataframe thead th {\n",
              "        text-align: right;\n",
              "    }\n",
              "</style>\n",
              "<table border=\"1\" class=\"dataframe\">\n",
              "  <thead>\n",
              "    <tr style=\"text-align: right;\">\n",
              "      <th></th>\n",
              "      <th>number</th>\n",
              "      <th>orbital_period</th>\n",
              "      <th>mass</th>\n",
              "      <th>distance</th>\n",
              "      <th>year</th>\n",
              "    </tr>\n",
              "  </thead>\n",
              "  <tbody>\n",
              "    <tr>\n",
              "      <th>count</th>\n",
              "      <td>498.00000</td>\n",
              "      <td>498.000000</td>\n",
              "      <td>498.000000</td>\n",
              "      <td>498.000000</td>\n",
              "      <td>498.000000</td>\n",
              "    </tr>\n",
              "    <tr>\n",
              "      <th>mean</th>\n",
              "      <td>1.73494</td>\n",
              "      <td>835.778671</td>\n",
              "      <td>2.509320</td>\n",
              "      <td>52.068213</td>\n",
              "      <td>2007.377510</td>\n",
              "    </tr>\n",
              "    <tr>\n",
              "      <th>std</th>\n",
              "      <td>1.17572</td>\n",
              "      <td>1469.128259</td>\n",
              "      <td>3.636274</td>\n",
              "      <td>46.596041</td>\n",
              "      <td>4.167284</td>\n",
              "    </tr>\n",
              "    <tr>\n",
              "      <th>min</th>\n",
              "      <td>1.00000</td>\n",
              "      <td>1.328300</td>\n",
              "      <td>0.003600</td>\n",
              "      <td>1.350000</td>\n",
              "      <td>1989.000000</td>\n",
              "    </tr>\n",
              "    <tr>\n",
              "      <th>25%</th>\n",
              "      <td>1.00000</td>\n",
              "      <td>38.272250</td>\n",
              "      <td>0.212500</td>\n",
              "      <td>24.497500</td>\n",
              "      <td>2005.000000</td>\n",
              "    </tr>\n",
              "    <tr>\n",
              "      <th>50%</th>\n",
              "      <td>1.00000</td>\n",
              "      <td>357.000000</td>\n",
              "      <td>1.245000</td>\n",
              "      <td>39.940000</td>\n",
              "      <td>2009.000000</td>\n",
              "    </tr>\n",
              "    <tr>\n",
              "      <th>75%</th>\n",
              "      <td>2.00000</td>\n",
              "      <td>999.600000</td>\n",
              "      <td>2.867500</td>\n",
              "      <td>59.332500</td>\n",
              "      <td>2011.000000</td>\n",
              "    </tr>\n",
              "    <tr>\n",
              "      <th>max</th>\n",
              "      <td>6.00000</td>\n",
              "      <td>17337.500000</td>\n",
              "      <td>25.000000</td>\n",
              "      <td>354.000000</td>\n",
              "      <td>2014.000000</td>\n",
              "    </tr>\n",
              "  </tbody>\n",
              "</table>\n",
              "</div>"
            ],
            "text/plain": [
              "          number  orbital_period        mass    distance         year\n",
              "count  498.00000      498.000000  498.000000  498.000000   498.000000\n",
              "mean     1.73494      835.778671    2.509320   52.068213  2007.377510\n",
              "std      1.17572     1469.128259    3.636274   46.596041     4.167284\n",
              "min      1.00000        1.328300    0.003600    1.350000  1989.000000\n",
              "25%      1.00000       38.272250    0.212500   24.497500  2005.000000\n",
              "50%      1.00000      357.000000    1.245000   39.940000  2009.000000\n",
              "75%      2.00000      999.600000    2.867500   59.332500  2011.000000\n",
              "max      6.00000    17337.500000   25.000000  354.000000  2014.000000"
            ]
          },
          "metadata": {
            "tags": []
          },
          "execution_count": 216
        }
      ]
    },
    {
      "cell_type": "code",
      "metadata": {
        "id": "871R-8ZhIVhW",
        "colab_type": "code",
        "outputId": "521b8694-a7dc-4040-c027-c25c63b6ebb0",
        "colab": {
          "base_uri": "https://localhost:8080/",
          "height": 233
        }
      },
      "source": [
        "planets.groupby('method')['orbital_period'].median()"
      ],
      "execution_count": 0,
      "outputs": [
        {
          "output_type": "execute_result",
          "data": {
            "text/plain": [
              "method\n",
              "Astrometry                         631.180000\n",
              "Eclipse Timing Variations         4343.500000\n",
              "Imaging                          27500.000000\n",
              "Microlensing                      3300.000000\n",
              "Orbital Brightness Modulation        0.342887\n",
              "Pulsar Timing                       66.541900\n",
              "Pulsation Timing Variations       1170.000000\n",
              "Radial Velocity                    360.200000\n",
              "Transit                              5.714932\n",
              "Transit Timing Variations           57.011000\n",
              "Name: orbital_period, dtype: float64"
            ]
          },
          "metadata": {
            "tags": []
          },
          "execution_count": 5
        }
      ]
    },
    {
      "cell_type": "code",
      "metadata": {
        "id": "7NnKsHjmIuZ-",
        "colab_type": "code",
        "outputId": "92a48d07-4495-4250-8661-7713d27b531e",
        "colab": {
          "base_uri": "https://localhost:8080/",
          "height": 611
        }
      },
      "source": [
        "#THe result looks just like an excel spreadsheet with merged cells!\n",
        "agg1 = planets.groupby('method').aggregate([np.median, np.sum])\n",
        "agg1"
      ],
      "execution_count": 0,
      "outputs": [
        {
          "output_type": "execute_result",
          "data": {
            "text/html": [
              "<div>\n",
              "<style scoped>\n",
              "    .dataframe tbody tr th:only-of-type {\n",
              "        vertical-align: middle;\n",
              "    }\n",
              "\n",
              "    .dataframe tbody tr th {\n",
              "        vertical-align: top;\n",
              "    }\n",
              "\n",
              "    .dataframe thead tr th {\n",
              "        text-align: left;\n",
              "    }\n",
              "\n",
              "    .dataframe thead tr:last-of-type th {\n",
              "        text-align: right;\n",
              "    }\n",
              "</style>\n",
              "<table border=\"1\" class=\"dataframe\">\n",
              "  <thead>\n",
              "    <tr>\n",
              "      <th></th>\n",
              "      <th colspan=\"2\" halign=\"left\">number</th>\n",
              "      <th colspan=\"2\" halign=\"left\">orbital_period</th>\n",
              "      <th colspan=\"2\" halign=\"left\">mass</th>\n",
              "      <th colspan=\"2\" halign=\"left\">distance</th>\n",
              "      <th colspan=\"2\" halign=\"left\">year</th>\n",
              "    </tr>\n",
              "    <tr>\n",
              "      <th></th>\n",
              "      <th>median</th>\n",
              "      <th>sum</th>\n",
              "      <th>median</th>\n",
              "      <th>sum</th>\n",
              "      <th>median</th>\n",
              "      <th>sum</th>\n",
              "      <th>median</th>\n",
              "      <th>sum</th>\n",
              "      <th>median</th>\n",
              "      <th>sum</th>\n",
              "    </tr>\n",
              "    <tr>\n",
              "      <th>method</th>\n",
              "      <th></th>\n",
              "      <th></th>\n",
              "      <th></th>\n",
              "      <th></th>\n",
              "      <th></th>\n",
              "      <th></th>\n",
              "      <th></th>\n",
              "      <th></th>\n",
              "      <th></th>\n",
              "      <th></th>\n",
              "    </tr>\n",
              "  </thead>\n",
              "  <tbody>\n",
              "    <tr>\n",
              "      <th>Astrometry</th>\n",
              "      <td>1</td>\n",
              "      <td>2</td>\n",
              "      <td>631.180000</td>\n",
              "      <td>1.262360e+03</td>\n",
              "      <td>NaN</td>\n",
              "      <td>0.00000</td>\n",
              "      <td>17.875</td>\n",
              "      <td>35.75</td>\n",
              "      <td>2011.5</td>\n",
              "      <td>4023</td>\n",
              "    </tr>\n",
              "    <tr>\n",
              "      <th>Eclipse Timing Variations</th>\n",
              "      <td>2</td>\n",
              "      <td>15</td>\n",
              "      <td>4343.500000</td>\n",
              "      <td>4.276480e+04</td>\n",
              "      <td>5.125</td>\n",
              "      <td>10.25000</td>\n",
              "      <td>315.360</td>\n",
              "      <td>1261.44</td>\n",
              "      <td>2010.0</td>\n",
              "      <td>18090</td>\n",
              "    </tr>\n",
              "    <tr>\n",
              "      <th>Imaging</th>\n",
              "      <td>1</td>\n",
              "      <td>50</td>\n",
              "      <td>27500.000000</td>\n",
              "      <td>1.418973e+06</td>\n",
              "      <td>NaN</td>\n",
              "      <td>0.00000</td>\n",
              "      <td>40.395</td>\n",
              "      <td>2166.91</td>\n",
              "      <td>2009.0</td>\n",
              "      <td>76347</td>\n",
              "    </tr>\n",
              "    <tr>\n",
              "      <th>Microlensing</th>\n",
              "      <td>1</td>\n",
              "      <td>27</td>\n",
              "      <td>3300.000000</td>\n",
              "      <td>2.207500e+04</td>\n",
              "      <td>NaN</td>\n",
              "      <td>0.00000</td>\n",
              "      <td>3840.000</td>\n",
              "      <td>41440.00</td>\n",
              "      <td>2010.0</td>\n",
              "      <td>46225</td>\n",
              "    </tr>\n",
              "    <tr>\n",
              "      <th>Orbital Brightness Modulation</th>\n",
              "      <td>2</td>\n",
              "      <td>5</td>\n",
              "      <td>0.342887</td>\n",
              "      <td>2.127920e+00</td>\n",
              "      <td>NaN</td>\n",
              "      <td>0.00000</td>\n",
              "      <td>1180.000</td>\n",
              "      <td>2360.00</td>\n",
              "      <td>2011.0</td>\n",
              "      <td>6035</td>\n",
              "    </tr>\n",
              "    <tr>\n",
              "      <th>Pulsar Timing</th>\n",
              "      <td>3</td>\n",
              "      <td>11</td>\n",
              "      <td>66.541900</td>\n",
              "      <td>3.671511e+04</td>\n",
              "      <td>NaN</td>\n",
              "      <td>0.00000</td>\n",
              "      <td>1200.000</td>\n",
              "      <td>1200.00</td>\n",
              "      <td>1994.0</td>\n",
              "      <td>9992</td>\n",
              "    </tr>\n",
              "    <tr>\n",
              "      <th>Pulsation Timing Variations</th>\n",
              "      <td>1</td>\n",
              "      <td>1</td>\n",
              "      <td>1170.000000</td>\n",
              "      <td>1.170000e+03</td>\n",
              "      <td>NaN</td>\n",
              "      <td>0.00000</td>\n",
              "      <td>NaN</td>\n",
              "      <td>0.00</td>\n",
              "      <td>2007.0</td>\n",
              "      <td>2007</td>\n",
              "    </tr>\n",
              "    <tr>\n",
              "      <th>Radial Velocity</th>\n",
              "      <td>1</td>\n",
              "      <td>952</td>\n",
              "      <td>360.200000</td>\n",
              "      <td>4.553151e+05</td>\n",
              "      <td>1.260</td>\n",
              "      <td>1341.65638</td>\n",
              "      <td>40.445</td>\n",
              "      <td>27348.11</td>\n",
              "      <td>2009.0</td>\n",
              "      <td>1110158</td>\n",
              "    </tr>\n",
              "    <tr>\n",
              "      <th>Transit</th>\n",
              "      <td>1</td>\n",
              "      <td>776</td>\n",
              "      <td>5.714932</td>\n",
              "      <td>8.377523e+03</td>\n",
              "      <td>1.470</td>\n",
              "      <td>1.47000</td>\n",
              "      <td>341.000</td>\n",
              "      <td>134242.77</td>\n",
              "      <td>2012.0</td>\n",
              "      <td>798461</td>\n",
              "    </tr>\n",
              "    <tr>\n",
              "      <th>Transit Timing Variations</th>\n",
              "      <td>2</td>\n",
              "      <td>9</td>\n",
              "      <td>57.011000</td>\n",
              "      <td>2.393505e+02</td>\n",
              "      <td>NaN</td>\n",
              "      <td>0.00000</td>\n",
              "      <td>855.000</td>\n",
              "      <td>3313.00</td>\n",
              "      <td>2012.5</td>\n",
              "      <td>8050</td>\n",
              "    </tr>\n",
              "  </tbody>\n",
              "</table>\n",
              "</div>"
            ],
            "text/plain": [
              "                              number       ...    year         \n",
              "                              median  sum  ...  median      sum\n",
              "method                                     ...                 \n",
              "Astrometry                         1    2  ...  2011.5     4023\n",
              "Eclipse Timing Variations          2   15  ...  2010.0    18090\n",
              "Imaging                            1   50  ...  2009.0    76347\n",
              "Microlensing                       1   27  ...  2010.0    46225\n",
              "Orbital Brightness Modulation      2    5  ...  2011.0     6035\n",
              "Pulsar Timing                      3   11  ...  1994.0     9992\n",
              "Pulsation Timing Variations        1    1  ...  2007.0     2007\n",
              "Radial Velocity                    1  952  ...  2009.0  1110158\n",
              "Transit                            1  776  ...  2012.0   798461\n",
              "Transit Timing Variations          2    9  ...  2012.5     8050\n",
              "\n",
              "[10 rows x 10 columns]"
            ]
          },
          "metadata": {
            "tags": []
          },
          "execution_count": 246
        }
      ]
    },
    {
      "cell_type": "code",
      "metadata": {
        "id": "6IlxqPHzLKH-",
        "colab_type": "code",
        "outputId": "bbce0564-a533-4bc5-8355-2ce4f21bca05",
        "colab": {
          "base_uri": "https://localhost:8080/",
          "height": 204
        }
      },
      "source": [
        "#Trying to index this result\n",
        "agg1.loc[\"Astrometry\"]"
      ],
      "execution_count": 0,
      "outputs": [
        {
          "output_type": "execute_result",
          "data": {
            "text/plain": [
              "number          median       1.000\n",
              "                sum          2.000\n",
              "orbital_period  median     631.180\n",
              "                sum       1262.360\n",
              "mass            median         NaN\n",
              "                sum          0.000\n",
              "distance        median      17.875\n",
              "                sum         35.750\n",
              "year            median    2011.500\n",
              "                sum       4023.000\n",
              "Name: Astrometry, dtype: float64"
            ]
          },
          "metadata": {
            "tags": []
          },
          "execution_count": 247
        }
      ]
    },
    {
      "cell_type": "code",
      "metadata": {
        "id": "aOA5RenRJztm",
        "colab_type": "code",
        "outputId": "67c0501c-c8b3-4611-ce5b-9b5e62901b31",
        "colab": {
          "base_uri": "https://localhost:8080/",
          "height": 34
        }
      },
      "source": [
        "agg1.iloc[0,0]"
      ],
      "execution_count": 0,
      "outputs": [
        {
          "output_type": "execute_result",
          "data": {
            "text/plain": [
              "1"
            ]
          },
          "metadata": {
            "tags": []
          },
          "execution_count": 248
        }
      ]
    },
    {
      "cell_type": "code",
      "metadata": {
        "id": "p1HjzvjTLUta",
        "colab_type": "code",
        "outputId": "6320c22f-fd72-451a-8dab-3f7085a29b06",
        "colab": {
          "base_uri": "https://localhost:8080/",
          "height": 68
        }
      },
      "source": [
        "agg1.loc[\"Imaging\",\"mass\"]"
      ],
      "execution_count": 0,
      "outputs": [
        {
          "output_type": "execute_result",
          "data": {
            "text/plain": [
              "median    NaN\n",
              "sum       0.0\n",
              "Name: Imaging, dtype: float64"
            ]
          },
          "metadata": {
            "tags": []
          },
          "execution_count": 251
        }
      ]
    },
    {
      "cell_type": "code",
      "metadata": {
        "id": "i3CE-qa6Ld_8",
        "colab_type": "code",
        "outputId": "3182746e-5499-4ad2-8bef-4c83898e2cb8",
        "colab": {
          "base_uri": "https://localhost:8080/",
          "height": 700
        }
      },
      "source": [
        "#This 'stack' method makes the excel sheet thingy look easier to read!\n",
        "agg1.stack()"
      ],
      "execution_count": 0,
      "outputs": [
        {
          "output_type": "execute_result",
          "data": {
            "text/html": [
              "<div>\n",
              "<style scoped>\n",
              "    .dataframe tbody tr th:only-of-type {\n",
              "        vertical-align: middle;\n",
              "    }\n",
              "\n",
              "    .dataframe tbody tr th {\n",
              "        vertical-align: top;\n",
              "    }\n",
              "\n",
              "    .dataframe thead th {\n",
              "        text-align: right;\n",
              "    }\n",
              "</style>\n",
              "<table border=\"1\" class=\"dataframe\">\n",
              "  <thead>\n",
              "    <tr style=\"text-align: right;\">\n",
              "      <th></th>\n",
              "      <th></th>\n",
              "      <th>number</th>\n",
              "      <th>orbital_period</th>\n",
              "      <th>mass</th>\n",
              "      <th>distance</th>\n",
              "      <th>year</th>\n",
              "    </tr>\n",
              "    <tr>\n",
              "      <th>method</th>\n",
              "      <th></th>\n",
              "      <th></th>\n",
              "      <th></th>\n",
              "      <th></th>\n",
              "      <th></th>\n",
              "      <th></th>\n",
              "    </tr>\n",
              "  </thead>\n",
              "  <tbody>\n",
              "    <tr>\n",
              "      <th rowspan=\"2\" valign=\"top\">Astrometry</th>\n",
              "      <th>median</th>\n",
              "      <td>1</td>\n",
              "      <td>6.311800e+02</td>\n",
              "      <td>NaN</td>\n",
              "      <td>17.875</td>\n",
              "      <td>2011.5</td>\n",
              "    </tr>\n",
              "    <tr>\n",
              "      <th>sum</th>\n",
              "      <td>2</td>\n",
              "      <td>1.262360e+03</td>\n",
              "      <td>0.00000</td>\n",
              "      <td>35.750</td>\n",
              "      <td>4023.0</td>\n",
              "    </tr>\n",
              "    <tr>\n",
              "      <th rowspan=\"2\" valign=\"top\">Eclipse Timing Variations</th>\n",
              "      <th>median</th>\n",
              "      <td>2</td>\n",
              "      <td>4.343500e+03</td>\n",
              "      <td>5.12500</td>\n",
              "      <td>315.360</td>\n",
              "      <td>2010.0</td>\n",
              "    </tr>\n",
              "    <tr>\n",
              "      <th>sum</th>\n",
              "      <td>15</td>\n",
              "      <td>4.276480e+04</td>\n",
              "      <td>10.25000</td>\n",
              "      <td>1261.440</td>\n",
              "      <td>18090.0</td>\n",
              "    </tr>\n",
              "    <tr>\n",
              "      <th rowspan=\"2\" valign=\"top\">Imaging</th>\n",
              "      <th>median</th>\n",
              "      <td>1</td>\n",
              "      <td>2.750000e+04</td>\n",
              "      <td>NaN</td>\n",
              "      <td>40.395</td>\n",
              "      <td>2009.0</td>\n",
              "    </tr>\n",
              "    <tr>\n",
              "      <th>sum</th>\n",
              "      <td>50</td>\n",
              "      <td>1.418973e+06</td>\n",
              "      <td>0.00000</td>\n",
              "      <td>2166.910</td>\n",
              "      <td>76347.0</td>\n",
              "    </tr>\n",
              "    <tr>\n",
              "      <th rowspan=\"2\" valign=\"top\">Microlensing</th>\n",
              "      <th>median</th>\n",
              "      <td>1</td>\n",
              "      <td>3.300000e+03</td>\n",
              "      <td>NaN</td>\n",
              "      <td>3840.000</td>\n",
              "      <td>2010.0</td>\n",
              "    </tr>\n",
              "    <tr>\n",
              "      <th>sum</th>\n",
              "      <td>27</td>\n",
              "      <td>2.207500e+04</td>\n",
              "      <td>0.00000</td>\n",
              "      <td>41440.000</td>\n",
              "      <td>46225.0</td>\n",
              "    </tr>\n",
              "    <tr>\n",
              "      <th rowspan=\"2\" valign=\"top\">Orbital Brightness Modulation</th>\n",
              "      <th>median</th>\n",
              "      <td>2</td>\n",
              "      <td>3.428870e-01</td>\n",
              "      <td>NaN</td>\n",
              "      <td>1180.000</td>\n",
              "      <td>2011.0</td>\n",
              "    </tr>\n",
              "    <tr>\n",
              "      <th>sum</th>\n",
              "      <td>5</td>\n",
              "      <td>2.127920e+00</td>\n",
              "      <td>0.00000</td>\n",
              "      <td>2360.000</td>\n",
              "      <td>6035.0</td>\n",
              "    </tr>\n",
              "    <tr>\n",
              "      <th rowspan=\"2\" valign=\"top\">Pulsar Timing</th>\n",
              "      <th>median</th>\n",
              "      <td>3</td>\n",
              "      <td>6.654190e+01</td>\n",
              "      <td>NaN</td>\n",
              "      <td>1200.000</td>\n",
              "      <td>1994.0</td>\n",
              "    </tr>\n",
              "    <tr>\n",
              "      <th>sum</th>\n",
              "      <td>11</td>\n",
              "      <td>3.671511e+04</td>\n",
              "      <td>0.00000</td>\n",
              "      <td>1200.000</td>\n",
              "      <td>9992.0</td>\n",
              "    </tr>\n",
              "    <tr>\n",
              "      <th rowspan=\"2\" valign=\"top\">Pulsation Timing Variations</th>\n",
              "      <th>median</th>\n",
              "      <td>1</td>\n",
              "      <td>1.170000e+03</td>\n",
              "      <td>NaN</td>\n",
              "      <td>NaN</td>\n",
              "      <td>2007.0</td>\n",
              "    </tr>\n",
              "    <tr>\n",
              "      <th>sum</th>\n",
              "      <td>1</td>\n",
              "      <td>1.170000e+03</td>\n",
              "      <td>0.00000</td>\n",
              "      <td>0.000</td>\n",
              "      <td>2007.0</td>\n",
              "    </tr>\n",
              "    <tr>\n",
              "      <th rowspan=\"2\" valign=\"top\">Radial Velocity</th>\n",
              "      <th>median</th>\n",
              "      <td>1</td>\n",
              "      <td>3.602000e+02</td>\n",
              "      <td>1.26000</td>\n",
              "      <td>40.445</td>\n",
              "      <td>2009.0</td>\n",
              "    </tr>\n",
              "    <tr>\n",
              "      <th>sum</th>\n",
              "      <td>952</td>\n",
              "      <td>4.553151e+05</td>\n",
              "      <td>1341.65638</td>\n",
              "      <td>27348.110</td>\n",
              "      <td>1110158.0</td>\n",
              "    </tr>\n",
              "    <tr>\n",
              "      <th rowspan=\"2\" valign=\"top\">Transit</th>\n",
              "      <th>median</th>\n",
              "      <td>1</td>\n",
              "      <td>5.714932e+00</td>\n",
              "      <td>1.47000</td>\n",
              "      <td>341.000</td>\n",
              "      <td>2012.0</td>\n",
              "    </tr>\n",
              "    <tr>\n",
              "      <th>sum</th>\n",
              "      <td>776</td>\n",
              "      <td>8.377523e+03</td>\n",
              "      <td>1.47000</td>\n",
              "      <td>134242.770</td>\n",
              "      <td>798461.0</td>\n",
              "    </tr>\n",
              "    <tr>\n",
              "      <th rowspan=\"2\" valign=\"top\">Transit Timing Variations</th>\n",
              "      <th>median</th>\n",
              "      <td>2</td>\n",
              "      <td>5.701100e+01</td>\n",
              "      <td>NaN</td>\n",
              "      <td>855.000</td>\n",
              "      <td>2012.5</td>\n",
              "    </tr>\n",
              "    <tr>\n",
              "      <th>sum</th>\n",
              "      <td>9</td>\n",
              "      <td>2.393505e+02</td>\n",
              "      <td>0.00000</td>\n",
              "      <td>3313.000</td>\n",
              "      <td>8050.0</td>\n",
              "    </tr>\n",
              "  </tbody>\n",
              "</table>\n",
              "</div>"
            ],
            "text/plain": [
              "                                      number  ...       year\n",
              "method                                        ...           \n",
              "Astrometry                    median       1  ...     2011.5\n",
              "                              sum          2  ...     4023.0\n",
              "Eclipse Timing Variations     median       2  ...     2010.0\n",
              "                              sum         15  ...    18090.0\n",
              "Imaging                       median       1  ...     2009.0\n",
              "                              sum         50  ...    76347.0\n",
              "Microlensing                  median       1  ...     2010.0\n",
              "                              sum         27  ...    46225.0\n",
              "Orbital Brightness Modulation median       2  ...     2011.0\n",
              "                              sum          5  ...     6035.0\n",
              "Pulsar Timing                 median       3  ...     1994.0\n",
              "                              sum         11  ...     9992.0\n",
              "Pulsation Timing Variations   median       1  ...     2007.0\n",
              "                              sum          1  ...     2007.0\n",
              "Radial Velocity               median       1  ...     2009.0\n",
              "                              sum        952  ...  1110158.0\n",
              "Transit                       median       1  ...     2012.0\n",
              "                              sum        776  ...   798461.0\n",
              "Transit Timing Variations     median       2  ...     2012.5\n",
              "                              sum          9  ...     8050.0\n",
              "\n",
              "[20 rows x 5 columns]"
            ]
          },
          "metadata": {
            "tags": []
          },
          "execution_count": 252
        }
      ]
    },
    {
      "cell_type": "code",
      "metadata": {
        "id": "RCSF8AR-LplZ",
        "colab_type": "code",
        "outputId": "2dc138d7-5edb-4ac1-897b-9f0db7121c52",
        "colab": {
          "base_uri": "https://localhost:8080/",
          "height": 238
        }
      },
      "source": [
        "#This is also another version of a pivot, but the representation doesn't make sense...\n",
        "agg1.unstack()"
      ],
      "execution_count": 0,
      "outputs": [
        {
          "output_type": "execute_result",
          "data": {
            "text/plain": [
              "                method                       \n",
              "number  median  Astrometry                             1.0\n",
              "                Eclipse Timing Variations              2.0\n",
              "                Imaging                                1.0\n",
              "                Microlensing                           1.0\n",
              "                Orbital Brightness Modulation          2.0\n",
              "                                                   ...    \n",
              "year    sum     Pulsar Timing                       9992.0\n",
              "                Pulsation Timing Variations         2007.0\n",
              "                Radial Velocity                  1110158.0\n",
              "                Transit                           798461.0\n",
              "                Transit Timing Variations           8050.0\n",
              "Length: 100, dtype: float64"
            ]
          },
          "metadata": {
            "tags": []
          },
          "execution_count": 253
        }
      ]
    },
    {
      "cell_type": "code",
      "metadata": {
        "id": "ouUmuki-Lwg9",
        "colab_type": "code",
        "outputId": "b4ea6e6d-8670-4a7c-ab89-afbc4ad899b4",
        "colab": {
          "base_uri": "https://localhost:8080/",
          "height": 119
        }
      },
      "source": [
        "agg1.stack().dtypes"
      ],
      "execution_count": 0,
      "outputs": [
        {
          "output_type": "execute_result",
          "data": {
            "text/plain": [
              "number              int64\n",
              "orbital_period    float64\n",
              "mass              float64\n",
              "distance          float64\n",
              "year              float64\n",
              "dtype: object"
            ]
          },
          "metadata": {
            "tags": []
          },
          "execution_count": 254
        }
      ]
    },
    {
      "cell_type": "code",
      "metadata": {
        "id": "KYP9MJT9L6Dt",
        "colab_type": "code",
        "outputId": "a0d28c05-e965-4d3f-e489-ef9599123378",
        "colab": {
          "base_uri": "https://localhost:8080/",
          "height": 390
        }
      },
      "source": [
        "#Using a dictionary to map column names to the aggregate function we want to apply\n",
        "planets.groupby('method').aggregate({'number':np.nanmin, 'distance':np.sum})"
      ],
      "execution_count": 0,
      "outputs": [
        {
          "output_type": "execute_result",
          "data": {
            "text/html": [
              "<div>\n",
              "<style scoped>\n",
              "    .dataframe tbody tr th:only-of-type {\n",
              "        vertical-align: middle;\n",
              "    }\n",
              "\n",
              "    .dataframe tbody tr th {\n",
              "        vertical-align: top;\n",
              "    }\n",
              "\n",
              "    .dataframe thead th {\n",
              "        text-align: right;\n",
              "    }\n",
              "</style>\n",
              "<table border=\"1\" class=\"dataframe\">\n",
              "  <thead>\n",
              "    <tr style=\"text-align: right;\">\n",
              "      <th></th>\n",
              "      <th>number</th>\n",
              "      <th>distance</th>\n",
              "    </tr>\n",
              "    <tr>\n",
              "      <th>method</th>\n",
              "      <th></th>\n",
              "      <th></th>\n",
              "    </tr>\n",
              "  </thead>\n",
              "  <tbody>\n",
              "    <tr>\n",
              "      <th>Astrometry</th>\n",
              "      <td>1</td>\n",
              "      <td>35.75</td>\n",
              "    </tr>\n",
              "    <tr>\n",
              "      <th>Eclipse Timing Variations</th>\n",
              "      <td>1</td>\n",
              "      <td>1261.44</td>\n",
              "    </tr>\n",
              "    <tr>\n",
              "      <th>Imaging</th>\n",
              "      <td>1</td>\n",
              "      <td>2166.91</td>\n",
              "    </tr>\n",
              "    <tr>\n",
              "      <th>Microlensing</th>\n",
              "      <td>1</td>\n",
              "      <td>41440.00</td>\n",
              "    </tr>\n",
              "    <tr>\n",
              "      <th>Orbital Brightness Modulation</th>\n",
              "      <td>1</td>\n",
              "      <td>2360.00</td>\n",
              "    </tr>\n",
              "    <tr>\n",
              "      <th>Pulsar Timing</th>\n",
              "      <td>1</td>\n",
              "      <td>1200.00</td>\n",
              "    </tr>\n",
              "    <tr>\n",
              "      <th>Pulsation Timing Variations</th>\n",
              "      <td>1</td>\n",
              "      <td>0.00</td>\n",
              "    </tr>\n",
              "    <tr>\n",
              "      <th>Radial Velocity</th>\n",
              "      <td>1</td>\n",
              "      <td>27348.11</td>\n",
              "    </tr>\n",
              "    <tr>\n",
              "      <th>Transit</th>\n",
              "      <td>1</td>\n",
              "      <td>134242.77</td>\n",
              "    </tr>\n",
              "    <tr>\n",
              "      <th>Transit Timing Variations</th>\n",
              "      <td>2</td>\n",
              "      <td>3313.00</td>\n",
              "    </tr>\n",
              "  </tbody>\n",
              "</table>\n",
              "</div>"
            ],
            "text/plain": [
              "                               number   distance\n",
              "method                                          \n",
              "Astrometry                          1      35.75\n",
              "Eclipse Timing Variations           1    1261.44\n",
              "Imaging                             1    2166.91\n",
              "Microlensing                        1   41440.00\n",
              "Orbital Brightness Modulation       1    2360.00\n",
              "Pulsar Timing                       1    1200.00\n",
              "Pulsation Timing Variations         1       0.00\n",
              "Radial Velocity                     1   27348.11\n",
              "Transit                             1  134242.77\n",
              "Transit Timing Variations           2    3313.00"
            ]
          },
          "metadata": {
            "tags": []
          },
          "execution_count": 267
        }
      ]
    },
    {
      "cell_type": "code",
      "metadata": {
        "id": "rC32lnGxNG6V",
        "colab_type": "code",
        "colab": {}
      },
      "source": [
        ""
      ],
      "execution_count": 0,
      "outputs": []
    }
  ]
}